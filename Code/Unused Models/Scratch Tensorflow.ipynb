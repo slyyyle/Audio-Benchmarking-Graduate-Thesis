{
 "cells": [
  {
   "cell_type": "code",
   "execution_count": 1,
   "metadata": {},
   "outputs": [],
   "source": [
    "import matplotlib.pyplot as plt\n",
    "import numpy as np\n",
    "import pandas as pd\n",
    "from tqdm import tqdm\n",
    "import os\n",
    "from brian2 import *\n",
    "from brian2hears import *\n",
    "import librosa\n",
    "import librosa.display\n",
    "import tensorflow as tf\n",
    "from tensorflow import keras\n",
    "from tensorflow.keras import layers\n",
    "import tensorflow_addons as tfa\n",
    "from sklearn.model_selection import train_test_split\n",
    "from pydub import AudioSegment"
   ]
  },
  {
   "cell_type": "markdown",
   "metadata": {},
   "source": [
    "Hyperparameters"
   ]
  },
  {
   "cell_type": "code",
   "execution_count": null,
   "metadata": {},
   "outputs": [],
   "source": [
    "featuresdf = pd.read_pickle('approxGT_224_test.pkl')\n",
    "\n",
    "img_height, img_width = shape(featuresdf['feature'][0])\n",
    "num_classes = len(unique(featuresdf.class_label))\n",
    "num_channels = 1\n",
    "\n",
    "batch_size = 50\n",
    "normalize_toggle = False\n",
    "global_pooling = False\n",
    "learning_rate = 0.001\n",
    "num_epochs = 10000\n",
    "learn_rate_gamma = 0.9999\n",
    "learn_rate_step = 100*batch_size\n",
    "l2_regularization = 0\n",
    "paddings=tf.constant([[0,0], [1,1],[1,1],[0,0]])\n",
    "\n",
    "conv1_out = 32\n",
    "conv2_out = 32\n",
    "conv3_out = 0\n",
    "conv4_out = 0\n",
    "\n",
    "dropout_p = 0.5\n",
    "\n",
    "conv_channels = [conv1_out,conv2_out,conv3_out,conv4_out]\n",
    "active_channels = [i for i in conv_channels if i!=0]\n",
    "num_layers = len(active_channels)\n",
    "last_layer_channels = active_channels[num_layers-1]"
   ]
  },
  {
   "cell_type": "markdown",
   "metadata": {},
   "source": [
    "Helper Functions"
   ]
  },
  {
   "cell_type": "code",
   "execution_count": null,
   "metadata": {},
   "outputs": [],
   "source": [
    "def normalize_data(train_df, test_df):\n",
    "    # compute the mean and std (pixel-wise)\n",
    "    mean = train_df['feature'].mean()\n",
    "    std = np.std(np.stack(train_df['feature']), axis=0)\n",
    "\n",
    "    # normalize train set\n",
    "    train_spectrograms = (np.stack(train_df['feature']) - mean) / std\n",
    "    train_labels = train_df['class_label'].to_numpy()\n",
    "    train_folds = train_df['fold'].to_numpy()\n",
    "    train_df = pd.DataFrame(zip(train_spectrograms, train_labels, train_folds), columns=['feature', 'class_label', 'fold'])\n",
    "\n",
    "    # normalize test set\n",
    "    test_spectrograms = (np.stack(test_df['feature']) - mean) / std\n",
    "    test_labels = test_df['class_label'].to_numpy()\n",
    "    test_folds = test_df['fold'].to_numpy()\n",
    "    test_df = pd.DataFrame(zip(test_spectrograms, test_labels, test_folds), columns=['feature', 'class_label', 'fold'])\n",
    "\n",
    "    return train_df, test_df"
   ]
  },
  {
   "cell_type": "markdown",
   "metadata": {},
   "source": [
    "Model Construction - Architecture"
   ]
  },
  {
   "cell_type": "code",
   "execution_count": null,
   "metadata": {},
   "outputs": [],
   "source": [
    "#fold_k = 7\n",
    "\n",
    "train_df, test_df = train_test_split(featuresdf, test_size=0.2, random_state=25)\n",
    "\n",
    "#train_df = featuresdf[featuresdf.fold != fold_k]\n",
    "#test_df = featuresdf[featuresdf.fold == fold_k]\n",
    "\n",
    "if normalize_toggle == True:\n",
    "    normalize_data(train_df,test_df)\n",
    "\n",
    "train_images = tf.expand_dims(tf.convert_to_tensor([i for i in train_df['feature']]),3)\n",
    "train_labels = train_df['class_label']\n",
    "\n",
    "test_images = tf.expand_dims(tf.convert_to_tensor([i for i in test_df['feature']]),3)\n",
    "test_labels = test_df['class_label']\n",
    "\n",
    "train_df = None\n",
    "test_df = None"
   ]
  },
  {
   "cell_type": "code",
   "execution_count": null,
   "metadata": {},
   "outputs": [],
   "source": [
    "model = None\n",
    "model = tf.keras.Sequential()\n",
    "\n",
    "# INPUT LAYER\n",
    "model.add(keras.Input(shape=(img_height, img_width, num_channels)))\n",
    "\n",
    "model.add(keras.layers.RandomTranslation(height_factor=0,width_factor=0.5))\n",
    "\n",
    "if num_layers > 0:\n",
    "    # FIRST CONVOLUTIONAL BLOCK\n",
    "    model.add(layers.Conv2D(conv1_out,kernel_size=(3,3),padding='valid',strides=(1,1)))\n",
    "    model.add(layers.BatchNormalization())\n",
    "    model.add(layers.ReLU())\n",
    "    #model.add()\n",
    "\n",
    "if num_layers > 1:\n",
    "    # SECOND CONVOLUTIONAL BLOCK\n",
    "    model.add(layers.Conv2D(conv2_out,kernel_size=(3,3),padding='valid',strides=(1,1)))\n",
    "    model.add(layers.BatchNormalization())\n",
    "    model.add(layers.ReLU())\n",
    "\n",
    "if num_layers > 2:\n",
    "    # THIRD CONVOLUTIONAL BLOCK\n",
    "    model.add(layers.Conv2D(conv3_out,kernel_size=(3,3),padding='valid',strides=(1,1)))\n",
    "    model.add(layers.BatchNormalization())\n",
    "    model.add(layers.ReLU())\n",
    "\n",
    "if num_layers > 3:\n",
    "    # FOURTH CONVOLUTIONAL BLOCK\n",
    "    model.add(layers.Conv2D(conv4_out,kernel_size=(3,3),padding='valid',strides=(1,1)))\n",
    "    model.add(layers.BatchNormalization())\n",
    "    model.add(layers.ReLU())\n",
    "\n",
    "model.add(layers.Flatten())\n",
    "\n",
    "fc_inputlayer_size = model.layers[5].output_shape[1]\n",
    "model.add(layers.Dense(fc_inputlayer_size))\n",
    "model.add(layers.ReLU())\n",
    "\n",
    "model.add(layers.Dense(10))\n",
    "\n",
    "model.summary()\n"
   ]
  },
  {
   "cell_type": "code",
   "execution_count": null,
   "metadata": {},
   "outputs": [],
   "source": [
    "optimizer = tfa.optimizers.AdamW(weight_decay=l2_regularization, learning_rate=learning_rate)\n",
    "\n",
    "model.compile(optimizer=optimizer,\n",
    "              loss=tf.keras.losses.SparseCategoricalCrossentropy(from_logits=True),\n",
    "              metrics=['accuracy'])\n",
    "\n",
    "history = model.fit(train_images, train_labels, epochs=num_epochs, \n",
    "                    validation_data=(test_images, test_labels))"
   ]
  }
 ],
 "metadata": {
  "kernelspec": {
   "display_name": "Python 3.9.13 ('base')",
   "language": "python",
   "name": "python3"
  },
  "language_info": {
   "codemirror_mode": {
    "name": "ipython",
    "version": 3
   },
   "file_extension": ".py",
   "mimetype": "text/x-python",
   "name": "python",
   "nbconvert_exporter": "python",
   "pygments_lexer": "ipython3",
   "version": "3.9.13 | packaged by conda-forge | (main, May 27 2022, 16:51:29) [MSC v.1929 64 bit (AMD64)]"
  },
  "orig_nbformat": 4,
  "vscode": {
   "interpreter": {
    "hash": "3a52d4c035417b05bd55a248d14e7821f3e49e2f328c6b3af0e0e5c45894566b"
   }
  }
 },
 "nbformat": 4,
 "nbformat_minor": 2
}
