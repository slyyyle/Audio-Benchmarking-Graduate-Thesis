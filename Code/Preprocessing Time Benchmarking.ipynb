{
 "cells": [
  {
   "cell_type": "code",
   "execution_count": 4,
   "metadata": {},
   "outputs": [],
   "source": [
    "from brian2 import *\n",
    "from brian2hears import *\n",
    "import os\n",
    "import pandas as pd"
   ]
  },
  {
   "attachments": {},
   "cell_type": "markdown",
   "metadata": {},
   "source": [
    "Cochleagram Preprocessing (Filterbanks Only)"
   ]
  },
  {
   "cell_type": "code",
   "execution_count": null,
   "metadata": {},
   "outputs": [],
   "source": [
    "def cgram_preprocess(filepath,cfN = 224, num_frames = 224):\n",
    "    sound = Sound(filepath)\n",
    "    cf = erbspace(20*Hz,20000*Hz,cfN)\n",
    "    gammatone = Gammatone(sound,cf)\n",
    "    cochlea = FunctionFilterbank(gammatone, lambda x: clip(x,0,Inf)**(1/3))\n",
    "    output = cochlea.process()\n",
    "    return output"
   ]
  },
  {
   "attachments": {},
   "cell_type": "markdown",
   "metadata": {},
   "source": [
    "Linear Gammachirp Preprocessing (Filterbanks Only)"
   ]
  },
  {
   "cell_type": "code",
   "execution_count": null,
   "metadata": {},
   "outputs": [],
   "source": [
    "def LinGC_preprocess(filepath,cfN=224,num_frames=224):\n",
    "    sound = Sound(filepath)\n",
    "    #center frequencies with a spacing following an ERB scale\n",
    "    center_frequencies = erbspace(20*Hz, 20000*Hz, cfN)\n",
    "    c = 0 #glide slope\n",
    "    time_constant = linspace(3, 0.3, cfN)*ms\n",
    "    gamma_chirp = LinearGammachirp(sound, center_frequencies, time_constant, c)\n",
    "    gamma_chirp = FunctionFilterbank(gamma_chirp, lambda x: clip(x,0,Inf)**(1/3))\n",
    "    output = gamma_chirp.process()\n",
    "    return output"
   ]
  },
  {
   "attachments": {},
   "cell_type": "markdown",
   "metadata": {},
   "source": [
    "Logarithmic Gammachirp Preprocessing (Filterbanks Only)"
   ]
  },
  {
   "cell_type": "code",
   "execution_count": 5,
   "metadata": {},
   "outputs": [],
   "source": [
    "def LogGC_preprocess(filepath, cfN = 224, num_frames = 224, c1 = -2.96, b1 = 1.81):\n",
    "    #c1 - glide slope\n",
    "    #b1 - factor determining time constant of the filters\n",
    "    sound = Sound(filepath)\n",
    "    cf = erbspace(20*Hz, 20000*Hz, cfN) # centre frequencies\n",
    "    fb = LogGammachirp(sound, cf, c=c1, b=b1)\n",
    "    cochlea = FunctionFilterbank(fb, lambda x: clip(x,0,Inf)**(1/3))\n",
    "    output = cochlea.process()\n",
    "    return output"
   ]
  },
  {
   "attachments": {},
   "cell_type": "markdown",
   "metadata": {},
   "source": [
    "Approximate Gammatone Preprocessing (Filterbanks Only)"
   ]
  },
  {
   "cell_type": "code",
   "execution_count": null,
   "metadata": {},
   "outputs": [],
   "source": [
    "def approxGT_preprocess(filepath, cfN = 224, num_frames = 224):\n",
    "    sound = Sound(filepath)\n",
    "    cf = erbspace(20*Hz, 20000*Hz, cfN) # centre frequencies\n",
    "    bw = 10**(0.037+0.785*log10(cf/Hz))\n",
    "    fb = ApproximateGammatone(sound, cf, bw, order=4)\n",
    "    cochlea = FunctionFilterbank(fb, lambda x: clip(x,0,Inf)**(1/3))\n",
    "    output = cochlea.process()\n",
    "    return output"
   ]
  },
  {
   "attachments": {},
   "cell_type": "markdown",
   "metadata": {},
   "source": [
    "Run Preprocessing Scripts on Fold 5"
   ]
  },
  {
   "cell_type": "code",
   "execution_count": 6,
   "metadata": {},
   "outputs": [],
   "source": [
    "meta_df = pd.read_csv(\"data/UrbanSound8K.csv\")\n",
    "file_path = 'data/urbansound8k_mono'\n",
    "class_map = {'0' : 'air_conditioner', '1' : 'car_horn', '2' : 'children_playing', '3' : 'dog_bark', '4' : 'drilling', \n",
    "                 '5' : 'engine_idling', '6' : 'gun_shot', '7' : 'jackhammer', '8' : 'siren', '9' : 'street_music'}\n",
    "\n",
    "#removing the 9 corrupt/incorrect PCM encoded files\n",
    "meta_df = meta_df[meta_df.fsID != 19007]\n",
    "meta_df = meta_df[meta_df.fsID != 36429]\n",
    "meta_df = meta_df[meta_df.fsID != 88466]\n",
    "meta_df = meta_df[meta_df.fold == 5]\n",
    "\n",
    "features = []\n",
    "count_records = len(meta_df.slice_file_name)\n",
    "\n",
    "for index, row in meta_df.iterrows():\n",
    "    file_name = os.path.join(os.path.abspath(file_path),'fold'+str(row[\"fold\"])+'/',str(row[\"slice_file_name\"]))\n",
    "    #cgram_preprocess(file_name, cfN = 224, num_frames = 224)\n",
    "    #approxGT_preprocess(file_name, cfN = 224, num_frames = 224)\n",
    "    LogGC_preprocess(file_name, cfN = 224, num_frames = 224)\n",
    "    #LinGC_preprocess(file_name, cfN = 224, num_frames = 224)\n",
    "    del file_name"
   ]
  }
 ],
 "metadata": {
  "kernelspec": {
   "display_name": "base",
   "language": "python",
   "name": "python3"
  },
  "language_info": {
   "codemirror_mode": {
    "name": "ipython",
    "version": 3
   },
   "file_extension": ".py",
   "mimetype": "text/x-python",
   "name": "python",
   "nbconvert_exporter": "python",
   "pygments_lexer": "ipython3",
   "version": "3.9.13"
  },
  "orig_nbformat": 4,
  "vscode": {
   "interpreter": {
    "hash": "3a52d4c035417b05bd55a248d14e7821f3e49e2f328c6b3af0e0e5c45894566b"
   }
  }
 },
 "nbformat": 4,
 "nbformat_minor": 2
}
