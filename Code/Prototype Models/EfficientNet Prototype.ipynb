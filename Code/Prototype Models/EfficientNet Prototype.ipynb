{
 "cells": [
  {
   "cell_type": "code",
   "execution_count": 1,
   "metadata": {},
   "outputs": [],
   "source": [
    "import zipfile\n",
    "import numpy as np\n",
    "from glob import glob\n",
    "import matplotlib.pyplot as plt\n",
    "import torch\n",
    "import torch.nn as nn\n",
    "from torchsummary import summary\n",
    "import torchvision\n",
    "from torchvision import datasets, transforms as T\n",
    "from efficientnet_pytorch import EfficientNet\n",
    "import os\n",
    "import torch.optim as optim\n",
    "from PIL import ImageFile\n",
    "from sklearn.metrics import accuracy_score\n",
    "import pandas as pd\n",
    "from sklearn.model_selection import train_test_split\n",
    "from torch.utils.data import Dataset\n",
    "import copy\n",
    "import plotly_express as px\n",
    "\n",
    "#Checking the availability of a GPU\n",
    "use_cuda = torch.cuda.is_available()"
   ]
  },
  {
   "attachments": {},
   "cell_type": "markdown",
   "metadata": {},
   "source": [
    "Load Data From Disk and Hyperparameters:"
   ]
  },
  {
   "cell_type": "code",
   "execution_count": 2,
   "metadata": {},
   "outputs": [],
   "source": [
    "featuresdf = pd.read_pickle('LogGC_224_comp3.pkl')\n",
    "img_height = len(featuresdf['feature'][0])\n",
    "img_width = img_height\n",
    "\n",
    "batch_size = 32\n",
    "n_epochs = 30\n",
    "train_base = True\n",
    "optimizer_name = \"Adam\"\n",
    "SGD_momentum = 0.9\n",
    "learning_rate = 0.0015"
   ]
  },
  {
   "attachments": {},
   "cell_type": "markdown",
   "metadata": {},
   "source": [
    "Image Transforms:"
   ]
  },
  {
   "cell_type": "code",
   "execution_count": 3,
   "metadata": {},
   "outputs": [],
   "source": [
    "class MyAddGaussNoise(object):\n",
    "    def __init__(self, input_size, mean=0.0, std=None, add_noise_probability=1.0):\n",
    "        assert isinstance(input_size, (int, tuple))\n",
    "        assert isinstance(mean, (int, float))\n",
    "        assert isinstance(std, (int, float)) or std is None\n",
    "        assert isinstance(add_noise_probability, (float))\n",
    "\n",
    "\n",
    "        if isinstance(input_size, int):\n",
    "            self.input_size = (input_size, input_size)\n",
    "        else:\n",
    "            assert len(input_size) == 2\n",
    "            self.input_size = input_size\n",
    "\n",
    "        self.mean = mean\n",
    "\n",
    "        if std is not None:\n",
    "            assert std > 0.0\n",
    "            self.std = std\n",
    "        else:\n",
    "            self.std = std\n",
    "\n",
    "        assert add_noise_probability > 0.0 and add_noise_probability <= 1.0\n",
    "        self.add_noise_prob = add_noise_probability\n",
    "\n",
    "\n",
    "    def __call__(self, spectrogram):\n",
    "        if np.random.random() > self.add_noise_prob:\n",
    "            return spectrogram\n",
    "\n",
    "        # set some std value \n",
    "        min_pixel_value = np.min(spectrogram)\n",
    "        if self.std is None:\n",
    "            std_factor = 0.03     # factor number \n",
    "        std = np.abs(min_pixel_value*std_factor)\n",
    "\n",
    "        # generate a white noise spectrogram\n",
    "        gauss_mask = np.random.normal(self.mean, \n",
    "                                    std, \n",
    "                                    size=self.input_size).astype('float32')\n",
    "        \n",
    "        # add white noise to the sound spectrogram\n",
    "        noisy_visual = spectrogram + gauss_mask\n",
    "\n",
    "        return noisy_visual\n",
    "\n",
    "class MyRightShift(object):\n",
    "    def __init__(self, input_size, width_shift_range, shift_probability=1.0):\n",
    "        assert isinstance(input_size, (int, tuple))\n",
    "        assert isinstance(width_shift_range, (int, float))\n",
    "        assert isinstance(shift_probability, (float))\n",
    "\n",
    "        if isinstance(input_size, int):\n",
    "            self.input_size = (input_size, input_size)\n",
    "        else:\n",
    "            assert len(input_size) == 2\n",
    "            self.input_size = input_size\n",
    "\n",
    "        if isinstance(width_shift_range, int):\n",
    "            assert width_shift_range > 0\n",
    "            assert width_shift_range <= self.input_size[1]\n",
    "            self.width_shift_range = width_shift_range\n",
    "        else:\n",
    "            assert width_shift_range > 0.0\n",
    "            assert width_shift_range <= 1.0\n",
    "            self.width_shift_range = int(width_shift_range * self.input_size[1])\n",
    "                        \n",
    "        assert shift_probability > 0.0 and shift_probability <= 1.0\n",
    "        self.shift_prob = shift_probability\n",
    "\n",
    "    def __call__(self, image):\n",
    "        if np.random.random() > self.shift_prob:\n",
    "            return image\n",
    "\n",
    "        # create a new array filled with the min value\n",
    "        shifted_image= np.full(self.input_size, np.min(image), dtype='float32')\n",
    "\n",
    "        # randomly choose a start postion\n",
    "        rand_position = np.random.randint(1, self.width_shift_range)\n",
    "\n",
    "        # shift the image\n",
    "        shifted_image[:,rand_position:] = copy.deepcopy(image[:,:-rand_position])\n",
    "\n",
    "        return shifted_image\n",
    "\n",
    "#applying required transformations on the dataset\n",
    "img_transforms = {\n",
    "    'train':\n",
    "    T.Compose([\n",
    "        MyAddGaussNoise(input_size = img_height,add_noise_probability=0.5),\n",
    "        MyRightShift(input_size = img_height, width_shift_range=0.9, shift_probability=0.5),\n",
    "        T.ToTensor(),\n",
    "        T.Normalize([0.5],[0.5])\n",
    "        ]),\n",
    "\n",
    "    'valid':\n",
    "    T.Compose([\n",
    "        T.ToTensor(),\n",
    "        T.Normalize([0.5], [0.5])\n",
    "        ]),\n",
    "\n",
    "    'test':\n",
    "    T.Compose([\n",
    "        T.ToTensor(),\n",
    "        T.Normalize([0.5], [0.5])\n",
    "        ]),\n",
    "     }"
   ]
  },
  {
   "attachments": {},
   "cell_type": "markdown",
   "metadata": {},
   "source": [
    "Custom Dataset Object (UrbanSound8kDataset):"
   ]
  },
  {
   "cell_type": "code",
   "execution_count": 4,
   "metadata": {},
   "outputs": [],
   "source": [
    "class UrbanSound8kDataset(Dataset):\n",
    "    def __init__(self, featuresdf, transform=None):\n",
    "        assert isinstance(featuresdf, pd.DataFrame)\n",
    "        assert len(featuresdf.columns) == 3\n",
    "        \n",
    "        self.transform = transform\n",
    "\n",
    "        self.featuresdf = featuresdf\n",
    "\n",
    "    def __len__(self):\n",
    "        return len(self.featuresdf)\n",
    "\n",
    "    def __getitem__(self, index):\n",
    "        if torch.is_tensor(index):\n",
    "            index = index.tolist()\n",
    "\n",
    "        cochleagram, label, fold = self.featuresdf.iloc[index]\n",
    "\n",
    "        if self.transform is not None:\n",
    "           cochleagram = self.transform(cochleagram)\n",
    "\n",
    "        if not torch.is_tensor(cochleagram):\n",
    "            cochleagram = torch.as_tensor(cochleagram.astype('float'))\n",
    "\n",
    "        label = torch.as_tensor(np.array(label)).type(torch.LongTensor)\n",
    "\n",
    "        cochleagram = cochleagram.expand(3,-1,-1).float()\n",
    "\n",
    "        return cochleagram, label"
   ]
  },
  {
   "attachments": {},
   "cell_type": "markdown",
   "metadata": {},
   "source": [
    "Model Architecture:"
   ]
  },
  {
   "cell_type": "code",
   "execution_count": 5,
   "metadata": {},
   "outputs": [
    {
     "name": "stdout",
     "output_type": "stream",
     "text": [
      "Loaded pretrained weights for efficientnet-b0\n"
     ]
    },
    {
     "data": {
      "text/plain": [
       "EfficientNet(\n",
       "  (_conv_stem): Conv2dStaticSamePadding(\n",
       "    3, 32, kernel_size=(3, 3), stride=(2, 2), bias=False\n",
       "    (static_padding): ZeroPad2d((0, 1, 0, 1))\n",
       "  )\n",
       "  (_bn0): BatchNorm2d(32, eps=0.001, momentum=0.010000000000000009, affine=True, track_running_stats=True)\n",
       "  (_blocks): ModuleList(\n",
       "    (0): MBConvBlock(\n",
       "      (_depthwise_conv): Conv2dStaticSamePadding(\n",
       "        32, 32, kernel_size=(3, 3), stride=[1, 1], groups=32, bias=False\n",
       "        (static_padding): ZeroPad2d((1, 1, 1, 1))\n",
       "      )\n",
       "      (_bn1): BatchNorm2d(32, eps=0.001, momentum=0.010000000000000009, affine=True, track_running_stats=True)\n",
       "      (_se_reduce): Conv2dStaticSamePadding(\n",
       "        32, 8, kernel_size=(1, 1), stride=(1, 1)\n",
       "        (static_padding): Identity()\n",
       "      )\n",
       "      (_se_expand): Conv2dStaticSamePadding(\n",
       "        8, 32, kernel_size=(1, 1), stride=(1, 1)\n",
       "        (static_padding): Identity()\n",
       "      )\n",
       "      (_project_conv): Conv2dStaticSamePadding(\n",
       "        32, 16, kernel_size=(1, 1), stride=(1, 1), bias=False\n",
       "        (static_padding): Identity()\n",
       "      )\n",
       "      (_bn2): BatchNorm2d(16, eps=0.001, momentum=0.010000000000000009, affine=True, track_running_stats=True)\n",
       "      (_swish): MemoryEfficientSwish()\n",
       "    )\n",
       "    (1): MBConvBlock(\n",
       "      (_expand_conv): Conv2dStaticSamePadding(\n",
       "        16, 96, kernel_size=(1, 1), stride=(1, 1), bias=False\n",
       "        (static_padding): Identity()\n",
       "      )\n",
       "      (_bn0): BatchNorm2d(96, eps=0.001, momentum=0.010000000000000009, affine=True, track_running_stats=True)\n",
       "      (_depthwise_conv): Conv2dStaticSamePadding(\n",
       "        96, 96, kernel_size=(3, 3), stride=[2, 2], groups=96, bias=False\n",
       "        (static_padding): ZeroPad2d((0, 1, 0, 1))\n",
       "      )\n",
       "      (_bn1): BatchNorm2d(96, eps=0.001, momentum=0.010000000000000009, affine=True, track_running_stats=True)\n",
       "      (_se_reduce): Conv2dStaticSamePadding(\n",
       "        96, 4, kernel_size=(1, 1), stride=(1, 1)\n",
       "        (static_padding): Identity()\n",
       "      )\n",
       "      (_se_expand): Conv2dStaticSamePadding(\n",
       "        4, 96, kernel_size=(1, 1), stride=(1, 1)\n",
       "        (static_padding): Identity()\n",
       "      )\n",
       "      (_project_conv): Conv2dStaticSamePadding(\n",
       "        96, 24, kernel_size=(1, 1), stride=(1, 1), bias=False\n",
       "        (static_padding): Identity()\n",
       "      )\n",
       "      (_bn2): BatchNorm2d(24, eps=0.001, momentum=0.010000000000000009, affine=True, track_running_stats=True)\n",
       "      (_swish): MemoryEfficientSwish()\n",
       "    )\n",
       "    (2): MBConvBlock(\n",
       "      (_expand_conv): Conv2dStaticSamePadding(\n",
       "        24, 144, kernel_size=(1, 1), stride=(1, 1), bias=False\n",
       "        (static_padding): Identity()\n",
       "      )\n",
       "      (_bn0): BatchNorm2d(144, eps=0.001, momentum=0.010000000000000009, affine=True, track_running_stats=True)\n",
       "      (_depthwise_conv): Conv2dStaticSamePadding(\n",
       "        144, 144, kernel_size=(3, 3), stride=(1, 1), groups=144, bias=False\n",
       "        (static_padding): ZeroPad2d((1, 1, 1, 1))\n",
       "      )\n",
       "      (_bn1): BatchNorm2d(144, eps=0.001, momentum=0.010000000000000009, affine=True, track_running_stats=True)\n",
       "      (_se_reduce): Conv2dStaticSamePadding(\n",
       "        144, 6, kernel_size=(1, 1), stride=(1, 1)\n",
       "        (static_padding): Identity()\n",
       "      )\n",
       "      (_se_expand): Conv2dStaticSamePadding(\n",
       "        6, 144, kernel_size=(1, 1), stride=(1, 1)\n",
       "        (static_padding): Identity()\n",
       "      )\n",
       "      (_project_conv): Conv2dStaticSamePadding(\n",
       "        144, 24, kernel_size=(1, 1), stride=(1, 1), bias=False\n",
       "        (static_padding): Identity()\n",
       "      )\n",
       "      (_bn2): BatchNorm2d(24, eps=0.001, momentum=0.010000000000000009, affine=True, track_running_stats=True)\n",
       "      (_swish): MemoryEfficientSwish()\n",
       "    )\n",
       "    (3): MBConvBlock(\n",
       "      (_expand_conv): Conv2dStaticSamePadding(\n",
       "        24, 144, kernel_size=(1, 1), stride=(1, 1), bias=False\n",
       "        (static_padding): Identity()\n",
       "      )\n",
       "      (_bn0): BatchNorm2d(144, eps=0.001, momentum=0.010000000000000009, affine=True, track_running_stats=True)\n",
       "      (_depthwise_conv): Conv2dStaticSamePadding(\n",
       "        144, 144, kernel_size=(5, 5), stride=[2, 2], groups=144, bias=False\n",
       "        (static_padding): ZeroPad2d((1, 2, 1, 2))\n",
       "      )\n",
       "      (_bn1): BatchNorm2d(144, eps=0.001, momentum=0.010000000000000009, affine=True, track_running_stats=True)\n",
       "      (_se_reduce): Conv2dStaticSamePadding(\n",
       "        144, 6, kernel_size=(1, 1), stride=(1, 1)\n",
       "        (static_padding): Identity()\n",
       "      )\n",
       "      (_se_expand): Conv2dStaticSamePadding(\n",
       "        6, 144, kernel_size=(1, 1), stride=(1, 1)\n",
       "        (static_padding): Identity()\n",
       "      )\n",
       "      (_project_conv): Conv2dStaticSamePadding(\n",
       "        144, 40, kernel_size=(1, 1), stride=(1, 1), bias=False\n",
       "        (static_padding): Identity()\n",
       "      )\n",
       "      (_bn2): BatchNorm2d(40, eps=0.001, momentum=0.010000000000000009, affine=True, track_running_stats=True)\n",
       "      (_swish): MemoryEfficientSwish()\n",
       "    )\n",
       "    (4): MBConvBlock(\n",
       "      (_expand_conv): Conv2dStaticSamePadding(\n",
       "        40, 240, kernel_size=(1, 1), stride=(1, 1), bias=False\n",
       "        (static_padding): Identity()\n",
       "      )\n",
       "      (_bn0): BatchNorm2d(240, eps=0.001, momentum=0.010000000000000009, affine=True, track_running_stats=True)\n",
       "      (_depthwise_conv): Conv2dStaticSamePadding(\n",
       "        240, 240, kernel_size=(5, 5), stride=(1, 1), groups=240, bias=False\n",
       "        (static_padding): ZeroPad2d((2, 2, 2, 2))\n",
       "      )\n",
       "      (_bn1): BatchNorm2d(240, eps=0.001, momentum=0.010000000000000009, affine=True, track_running_stats=True)\n",
       "      (_se_reduce): Conv2dStaticSamePadding(\n",
       "        240, 10, kernel_size=(1, 1), stride=(1, 1)\n",
       "        (static_padding): Identity()\n",
       "      )\n",
       "      (_se_expand): Conv2dStaticSamePadding(\n",
       "        10, 240, kernel_size=(1, 1), stride=(1, 1)\n",
       "        (static_padding): Identity()\n",
       "      )\n",
       "      (_project_conv): Conv2dStaticSamePadding(\n",
       "        240, 40, kernel_size=(1, 1), stride=(1, 1), bias=False\n",
       "        (static_padding): Identity()\n",
       "      )\n",
       "      (_bn2): BatchNorm2d(40, eps=0.001, momentum=0.010000000000000009, affine=True, track_running_stats=True)\n",
       "      (_swish): MemoryEfficientSwish()\n",
       "    )\n",
       "    (5): MBConvBlock(\n",
       "      (_expand_conv): Conv2dStaticSamePadding(\n",
       "        40, 240, kernel_size=(1, 1), stride=(1, 1), bias=False\n",
       "        (static_padding): Identity()\n",
       "      )\n",
       "      (_bn0): BatchNorm2d(240, eps=0.001, momentum=0.010000000000000009, affine=True, track_running_stats=True)\n",
       "      (_depthwise_conv): Conv2dStaticSamePadding(\n",
       "        240, 240, kernel_size=(3, 3), stride=[2, 2], groups=240, bias=False\n",
       "        (static_padding): ZeroPad2d((0, 1, 0, 1))\n",
       "      )\n",
       "      (_bn1): BatchNorm2d(240, eps=0.001, momentum=0.010000000000000009, affine=True, track_running_stats=True)\n",
       "      (_se_reduce): Conv2dStaticSamePadding(\n",
       "        240, 10, kernel_size=(1, 1), stride=(1, 1)\n",
       "        (static_padding): Identity()\n",
       "      )\n",
       "      (_se_expand): Conv2dStaticSamePadding(\n",
       "        10, 240, kernel_size=(1, 1), stride=(1, 1)\n",
       "        (static_padding): Identity()\n",
       "      )\n",
       "      (_project_conv): Conv2dStaticSamePadding(\n",
       "        240, 80, kernel_size=(1, 1), stride=(1, 1), bias=False\n",
       "        (static_padding): Identity()\n",
       "      )\n",
       "      (_bn2): BatchNorm2d(80, eps=0.001, momentum=0.010000000000000009, affine=True, track_running_stats=True)\n",
       "      (_swish): MemoryEfficientSwish()\n",
       "    )\n",
       "    (6): MBConvBlock(\n",
       "      (_expand_conv): Conv2dStaticSamePadding(\n",
       "        80, 480, kernel_size=(1, 1), stride=(1, 1), bias=False\n",
       "        (static_padding): Identity()\n",
       "      )\n",
       "      (_bn0): BatchNorm2d(480, eps=0.001, momentum=0.010000000000000009, affine=True, track_running_stats=True)\n",
       "      (_depthwise_conv): Conv2dStaticSamePadding(\n",
       "        480, 480, kernel_size=(3, 3), stride=(1, 1), groups=480, bias=False\n",
       "        (static_padding): ZeroPad2d((1, 1, 1, 1))\n",
       "      )\n",
       "      (_bn1): BatchNorm2d(480, eps=0.001, momentum=0.010000000000000009, affine=True, track_running_stats=True)\n",
       "      (_se_reduce): Conv2dStaticSamePadding(\n",
       "        480, 20, kernel_size=(1, 1), stride=(1, 1)\n",
       "        (static_padding): Identity()\n",
       "      )\n",
       "      (_se_expand): Conv2dStaticSamePadding(\n",
       "        20, 480, kernel_size=(1, 1), stride=(1, 1)\n",
       "        (static_padding): Identity()\n",
       "      )\n",
       "      (_project_conv): Conv2dStaticSamePadding(\n",
       "        480, 80, kernel_size=(1, 1), stride=(1, 1), bias=False\n",
       "        (static_padding): Identity()\n",
       "      )\n",
       "      (_bn2): BatchNorm2d(80, eps=0.001, momentum=0.010000000000000009, affine=True, track_running_stats=True)\n",
       "      (_swish): MemoryEfficientSwish()\n",
       "    )\n",
       "    (7): MBConvBlock(\n",
       "      (_expand_conv): Conv2dStaticSamePadding(\n",
       "        80, 480, kernel_size=(1, 1), stride=(1, 1), bias=False\n",
       "        (static_padding): Identity()\n",
       "      )\n",
       "      (_bn0): BatchNorm2d(480, eps=0.001, momentum=0.010000000000000009, affine=True, track_running_stats=True)\n",
       "      (_depthwise_conv): Conv2dStaticSamePadding(\n",
       "        480, 480, kernel_size=(3, 3), stride=(1, 1), groups=480, bias=False\n",
       "        (static_padding): ZeroPad2d((1, 1, 1, 1))\n",
       "      )\n",
       "      (_bn1): BatchNorm2d(480, eps=0.001, momentum=0.010000000000000009, affine=True, track_running_stats=True)\n",
       "      (_se_reduce): Conv2dStaticSamePadding(\n",
       "        480, 20, kernel_size=(1, 1), stride=(1, 1)\n",
       "        (static_padding): Identity()\n",
       "      )\n",
       "      (_se_expand): Conv2dStaticSamePadding(\n",
       "        20, 480, kernel_size=(1, 1), stride=(1, 1)\n",
       "        (static_padding): Identity()\n",
       "      )\n",
       "      (_project_conv): Conv2dStaticSamePadding(\n",
       "        480, 80, kernel_size=(1, 1), stride=(1, 1), bias=False\n",
       "        (static_padding): Identity()\n",
       "      )\n",
       "      (_bn2): BatchNorm2d(80, eps=0.001, momentum=0.010000000000000009, affine=True, track_running_stats=True)\n",
       "      (_swish): MemoryEfficientSwish()\n",
       "    )\n",
       "    (8): MBConvBlock(\n",
       "      (_expand_conv): Conv2dStaticSamePadding(\n",
       "        80, 480, kernel_size=(1, 1), stride=(1, 1), bias=False\n",
       "        (static_padding): Identity()\n",
       "      )\n",
       "      (_bn0): BatchNorm2d(480, eps=0.001, momentum=0.010000000000000009, affine=True, track_running_stats=True)\n",
       "      (_depthwise_conv): Conv2dStaticSamePadding(\n",
       "        480, 480, kernel_size=(5, 5), stride=[1, 1], groups=480, bias=False\n",
       "        (static_padding): ZeroPad2d((2, 2, 2, 2))\n",
       "      )\n",
       "      (_bn1): BatchNorm2d(480, eps=0.001, momentum=0.010000000000000009, affine=True, track_running_stats=True)\n",
       "      (_se_reduce): Conv2dStaticSamePadding(\n",
       "        480, 20, kernel_size=(1, 1), stride=(1, 1)\n",
       "        (static_padding): Identity()\n",
       "      )\n",
       "      (_se_expand): Conv2dStaticSamePadding(\n",
       "        20, 480, kernel_size=(1, 1), stride=(1, 1)\n",
       "        (static_padding): Identity()\n",
       "      )\n",
       "      (_project_conv): Conv2dStaticSamePadding(\n",
       "        480, 112, kernel_size=(1, 1), stride=(1, 1), bias=False\n",
       "        (static_padding): Identity()\n",
       "      )\n",
       "      (_bn2): BatchNorm2d(112, eps=0.001, momentum=0.010000000000000009, affine=True, track_running_stats=True)\n",
       "      (_swish): MemoryEfficientSwish()\n",
       "    )\n",
       "    (9): MBConvBlock(\n",
       "      (_expand_conv): Conv2dStaticSamePadding(\n",
       "        112, 672, kernel_size=(1, 1), stride=(1, 1), bias=False\n",
       "        (static_padding): Identity()\n",
       "      )\n",
       "      (_bn0): BatchNorm2d(672, eps=0.001, momentum=0.010000000000000009, affine=True, track_running_stats=True)\n",
       "      (_depthwise_conv): Conv2dStaticSamePadding(\n",
       "        672, 672, kernel_size=(5, 5), stride=(1, 1), groups=672, bias=False\n",
       "        (static_padding): ZeroPad2d((2, 2, 2, 2))\n",
       "      )\n",
       "      (_bn1): BatchNorm2d(672, eps=0.001, momentum=0.010000000000000009, affine=True, track_running_stats=True)\n",
       "      (_se_reduce): Conv2dStaticSamePadding(\n",
       "        672, 28, kernel_size=(1, 1), stride=(1, 1)\n",
       "        (static_padding): Identity()\n",
       "      )\n",
       "      (_se_expand): Conv2dStaticSamePadding(\n",
       "        28, 672, kernel_size=(1, 1), stride=(1, 1)\n",
       "        (static_padding): Identity()\n",
       "      )\n",
       "      (_project_conv): Conv2dStaticSamePadding(\n",
       "        672, 112, kernel_size=(1, 1), stride=(1, 1), bias=False\n",
       "        (static_padding): Identity()\n",
       "      )\n",
       "      (_bn2): BatchNorm2d(112, eps=0.001, momentum=0.010000000000000009, affine=True, track_running_stats=True)\n",
       "      (_swish): MemoryEfficientSwish()\n",
       "    )\n",
       "    (10): MBConvBlock(\n",
       "      (_expand_conv): Conv2dStaticSamePadding(\n",
       "        112, 672, kernel_size=(1, 1), stride=(1, 1), bias=False\n",
       "        (static_padding): Identity()\n",
       "      )\n",
       "      (_bn0): BatchNorm2d(672, eps=0.001, momentum=0.010000000000000009, affine=True, track_running_stats=True)\n",
       "      (_depthwise_conv): Conv2dStaticSamePadding(\n",
       "        672, 672, kernel_size=(5, 5), stride=(1, 1), groups=672, bias=False\n",
       "        (static_padding): ZeroPad2d((2, 2, 2, 2))\n",
       "      )\n",
       "      (_bn1): BatchNorm2d(672, eps=0.001, momentum=0.010000000000000009, affine=True, track_running_stats=True)\n",
       "      (_se_reduce): Conv2dStaticSamePadding(\n",
       "        672, 28, kernel_size=(1, 1), stride=(1, 1)\n",
       "        (static_padding): Identity()\n",
       "      )\n",
       "      (_se_expand): Conv2dStaticSamePadding(\n",
       "        28, 672, kernel_size=(1, 1), stride=(1, 1)\n",
       "        (static_padding): Identity()\n",
       "      )\n",
       "      (_project_conv): Conv2dStaticSamePadding(\n",
       "        672, 112, kernel_size=(1, 1), stride=(1, 1), bias=False\n",
       "        (static_padding): Identity()\n",
       "      )\n",
       "      (_bn2): BatchNorm2d(112, eps=0.001, momentum=0.010000000000000009, affine=True, track_running_stats=True)\n",
       "      (_swish): MemoryEfficientSwish()\n",
       "    )\n",
       "    (11): MBConvBlock(\n",
       "      (_expand_conv): Conv2dStaticSamePadding(\n",
       "        112, 672, kernel_size=(1, 1), stride=(1, 1), bias=False\n",
       "        (static_padding): Identity()\n",
       "      )\n",
       "      (_bn0): BatchNorm2d(672, eps=0.001, momentum=0.010000000000000009, affine=True, track_running_stats=True)\n",
       "      (_depthwise_conv): Conv2dStaticSamePadding(\n",
       "        672, 672, kernel_size=(5, 5), stride=[2, 2], groups=672, bias=False\n",
       "        (static_padding): ZeroPad2d((1, 2, 1, 2))\n",
       "      )\n",
       "      (_bn1): BatchNorm2d(672, eps=0.001, momentum=0.010000000000000009, affine=True, track_running_stats=True)\n",
       "      (_se_reduce): Conv2dStaticSamePadding(\n",
       "        672, 28, kernel_size=(1, 1), stride=(1, 1)\n",
       "        (static_padding): Identity()\n",
       "      )\n",
       "      (_se_expand): Conv2dStaticSamePadding(\n",
       "        28, 672, kernel_size=(1, 1), stride=(1, 1)\n",
       "        (static_padding): Identity()\n",
       "      )\n",
       "      (_project_conv): Conv2dStaticSamePadding(\n",
       "        672, 192, kernel_size=(1, 1), stride=(1, 1), bias=False\n",
       "        (static_padding): Identity()\n",
       "      )\n",
       "      (_bn2): BatchNorm2d(192, eps=0.001, momentum=0.010000000000000009, affine=True, track_running_stats=True)\n",
       "      (_swish): MemoryEfficientSwish()\n",
       "    )\n",
       "    (12): MBConvBlock(\n",
       "      (_expand_conv): Conv2dStaticSamePadding(\n",
       "        192, 1152, kernel_size=(1, 1), stride=(1, 1), bias=False\n",
       "        (static_padding): Identity()\n",
       "      )\n",
       "      (_bn0): BatchNorm2d(1152, eps=0.001, momentum=0.010000000000000009, affine=True, track_running_stats=True)\n",
       "      (_depthwise_conv): Conv2dStaticSamePadding(\n",
       "        1152, 1152, kernel_size=(5, 5), stride=(1, 1), groups=1152, bias=False\n",
       "        (static_padding): ZeroPad2d((2, 2, 2, 2))\n",
       "      )\n",
       "      (_bn1): BatchNorm2d(1152, eps=0.001, momentum=0.010000000000000009, affine=True, track_running_stats=True)\n",
       "      (_se_reduce): Conv2dStaticSamePadding(\n",
       "        1152, 48, kernel_size=(1, 1), stride=(1, 1)\n",
       "        (static_padding): Identity()\n",
       "      )\n",
       "      (_se_expand): Conv2dStaticSamePadding(\n",
       "        48, 1152, kernel_size=(1, 1), stride=(1, 1)\n",
       "        (static_padding): Identity()\n",
       "      )\n",
       "      (_project_conv): Conv2dStaticSamePadding(\n",
       "        1152, 192, kernel_size=(1, 1), stride=(1, 1), bias=False\n",
       "        (static_padding): Identity()\n",
       "      )\n",
       "      (_bn2): BatchNorm2d(192, eps=0.001, momentum=0.010000000000000009, affine=True, track_running_stats=True)\n",
       "      (_swish): MemoryEfficientSwish()\n",
       "    )\n",
       "    (13): MBConvBlock(\n",
       "      (_expand_conv): Conv2dStaticSamePadding(\n",
       "        192, 1152, kernel_size=(1, 1), stride=(1, 1), bias=False\n",
       "        (static_padding): Identity()\n",
       "      )\n",
       "      (_bn0): BatchNorm2d(1152, eps=0.001, momentum=0.010000000000000009, affine=True, track_running_stats=True)\n",
       "      (_depthwise_conv): Conv2dStaticSamePadding(\n",
       "        1152, 1152, kernel_size=(5, 5), stride=(1, 1), groups=1152, bias=False\n",
       "        (static_padding): ZeroPad2d((2, 2, 2, 2))\n",
       "      )\n",
       "      (_bn1): BatchNorm2d(1152, eps=0.001, momentum=0.010000000000000009, affine=True, track_running_stats=True)\n",
       "      (_se_reduce): Conv2dStaticSamePadding(\n",
       "        1152, 48, kernel_size=(1, 1), stride=(1, 1)\n",
       "        (static_padding): Identity()\n",
       "      )\n",
       "      (_se_expand): Conv2dStaticSamePadding(\n",
       "        48, 1152, kernel_size=(1, 1), stride=(1, 1)\n",
       "        (static_padding): Identity()\n",
       "      )\n",
       "      (_project_conv): Conv2dStaticSamePadding(\n",
       "        1152, 192, kernel_size=(1, 1), stride=(1, 1), bias=False\n",
       "        (static_padding): Identity()\n",
       "      )\n",
       "      (_bn2): BatchNorm2d(192, eps=0.001, momentum=0.010000000000000009, affine=True, track_running_stats=True)\n",
       "      (_swish): MemoryEfficientSwish()\n",
       "    )\n",
       "    (14): MBConvBlock(\n",
       "      (_expand_conv): Conv2dStaticSamePadding(\n",
       "        192, 1152, kernel_size=(1, 1), stride=(1, 1), bias=False\n",
       "        (static_padding): Identity()\n",
       "      )\n",
       "      (_bn0): BatchNorm2d(1152, eps=0.001, momentum=0.010000000000000009, affine=True, track_running_stats=True)\n",
       "      (_depthwise_conv): Conv2dStaticSamePadding(\n",
       "        1152, 1152, kernel_size=(5, 5), stride=(1, 1), groups=1152, bias=False\n",
       "        (static_padding): ZeroPad2d((2, 2, 2, 2))\n",
       "      )\n",
       "      (_bn1): BatchNorm2d(1152, eps=0.001, momentum=0.010000000000000009, affine=True, track_running_stats=True)\n",
       "      (_se_reduce): Conv2dStaticSamePadding(\n",
       "        1152, 48, kernel_size=(1, 1), stride=(1, 1)\n",
       "        (static_padding): Identity()\n",
       "      )\n",
       "      (_se_expand): Conv2dStaticSamePadding(\n",
       "        48, 1152, kernel_size=(1, 1), stride=(1, 1)\n",
       "        (static_padding): Identity()\n",
       "      )\n",
       "      (_project_conv): Conv2dStaticSamePadding(\n",
       "        1152, 192, kernel_size=(1, 1), stride=(1, 1), bias=False\n",
       "        (static_padding): Identity()\n",
       "      )\n",
       "      (_bn2): BatchNorm2d(192, eps=0.001, momentum=0.010000000000000009, affine=True, track_running_stats=True)\n",
       "      (_swish): MemoryEfficientSwish()\n",
       "    )\n",
       "    (15): MBConvBlock(\n",
       "      (_expand_conv): Conv2dStaticSamePadding(\n",
       "        192, 1152, kernel_size=(1, 1), stride=(1, 1), bias=False\n",
       "        (static_padding): Identity()\n",
       "      )\n",
       "      (_bn0): BatchNorm2d(1152, eps=0.001, momentum=0.010000000000000009, affine=True, track_running_stats=True)\n",
       "      (_depthwise_conv): Conv2dStaticSamePadding(\n",
       "        1152, 1152, kernel_size=(3, 3), stride=[1, 1], groups=1152, bias=False\n",
       "        (static_padding): ZeroPad2d((1, 1, 1, 1))\n",
       "      )\n",
       "      (_bn1): BatchNorm2d(1152, eps=0.001, momentum=0.010000000000000009, affine=True, track_running_stats=True)\n",
       "      (_se_reduce): Conv2dStaticSamePadding(\n",
       "        1152, 48, kernel_size=(1, 1), stride=(1, 1)\n",
       "        (static_padding): Identity()\n",
       "      )\n",
       "      (_se_expand): Conv2dStaticSamePadding(\n",
       "        48, 1152, kernel_size=(1, 1), stride=(1, 1)\n",
       "        (static_padding): Identity()\n",
       "      )\n",
       "      (_project_conv): Conv2dStaticSamePadding(\n",
       "        1152, 320, kernel_size=(1, 1), stride=(1, 1), bias=False\n",
       "        (static_padding): Identity()\n",
       "      )\n",
       "      (_bn2): BatchNorm2d(320, eps=0.001, momentum=0.010000000000000009, affine=True, track_running_stats=True)\n",
       "      (_swish): MemoryEfficientSwish()\n",
       "    )\n",
       "  )\n",
       "  (_conv_head): Conv2dStaticSamePadding(\n",
       "    320, 1280, kernel_size=(1, 1), stride=(1, 1), bias=False\n",
       "    (static_padding): Identity()\n",
       "  )\n",
       "  (_bn1): BatchNorm2d(1280, eps=0.001, momentum=0.010000000000000009, affine=True, track_running_stats=True)\n",
       "  (_avg_pooling): AdaptiveAvgPool2d(output_size=1)\n",
       "  (_dropout): Dropout(p=0.2, inplace=False)\n",
       "  (_fc): Sequential(\n",
       "    (0): Linear(in_features=1280, out_features=10, bias=True)\n",
       "  )\n",
       "  (_swish): MemoryEfficientSwish()\n",
       ")"
      ]
     },
     "execution_count": 5,
     "metadata": {},
     "output_type": "execute_result"
    }
   ],
   "source": [
    "#importing the pretrained EfficientNet model\n",
    "\n",
    "model_transfer = EfficientNet.from_pretrained('efficientnet-b0')\n",
    "\n",
    "# Freeze weights\n",
    "for param in model_transfer.parameters():\n",
    "    param.requires_grad = train_base\n",
    "in_features = model_transfer._fc.in_features\n",
    "\n",
    "# Defining Dense top layers after the convolutional layers\n",
    "model_transfer._fc = nn.Sequential(   \n",
    "    nn.Linear(in_features, 10),\n",
    "    )\n",
    "\n",
    "# selecting loss function\n",
    "criterion_transfer = nn.CrossEntropyLoss()\n",
    "\n",
    "#if scheduler_toggle == True:\n",
    "#    scheduler = torch.optim.lr_scheduler.StepLR(optimizer, step_size=2, gamma=0.1)\n",
    "\n",
    "#using Adam classifier\n",
    "if optimizer_name == 'Adam':\n",
    "    optimizer_transfer = optim.Adam(model_transfer.parameters(), lr=learning_rate)\n",
    "\n",
    "if optimizer_name == 'SGD':\n",
    "    optimizer_transfer = optim.SGD(model_transfer.parameters(), lr=learning_rate, momentum=SGD_momentum)\n",
    "\n",
    "if use_cuda:\n",
    "    model_transfer = model_transfer.cuda()\n",
    "\n",
    "model_transfer"
   ]
  },
  {
   "attachments": {},
   "cell_type": "markdown",
   "metadata": {},
   "source": [
    "Train Loop:"
   ]
  },
  {
   "cell_type": "code",
   "execution_count": 6,
   "metadata": {},
   "outputs": [],
   "source": [
    "# Creating the function for training\n",
    "def train_model(n_epochs, loaders, model, optimizer, criterion, save_path):\n",
    "    \"\"\"returns trained model\"\"\"\n",
    "    # initialize tracker for minimum validation loss\n",
    "    valid_loss_min = np.Inf \n",
    "    trainingloss = []\n",
    "    validationloss = []\n",
    "\n",
    "    for epoch in range(1, n_epochs+1):\n",
    "        # initialize the variables to monitor training and validation loss\n",
    "        train_loss = 0.0\n",
    "        valid_loss = 0.0\n",
    "        correct = 0.0\n",
    "        total = 0.0\n",
    "\n",
    "        preds = []\n",
    "        targets = []\n",
    "        \n",
    "        ###################\n",
    "        # training the model #\n",
    "        ###################\n",
    "        model.train()\n",
    "        for batch_idx, (data, target) in enumerate(loaders['train']):     \n",
    "            if use_cuda:\n",
    "                data, target = data.cuda(), target.cuda()   \n",
    "            \n",
    "            optimizer.zero_grad()\n",
    "            output = model(data)\n",
    "            loss = criterion(output, target)\n",
    "            loss.backward()\n",
    "            optimizer.step()\n",
    "            #scheduler.step()\n",
    "           \n",
    "            train_loss = train_loss + ((1 / (batch_idx + 1)) * (loss.data - train_loss))\n",
    "    \n",
    "        ######################    \n",
    "        # validating the model #\n",
    "        ######################\n",
    "        model.eval()\n",
    "        for batch_idx, (data, target) in enumerate(loaders['valid']):\n",
    "            if use_cuda:\n",
    "                data, target = data.cuda(), target.cuda()\n",
    "\n",
    "            output = model(data)\n",
    "            loss = criterion(output, target)\n",
    "            valid_loss = valid_loss + ((1 / (batch_idx + 1)) * (loss.data - valid_loss))\n",
    "            pred = output.data.max(1,keepdim=True)[1]\n",
    "            preds.append(pred)\n",
    "            targets.append(target)\n",
    "            # compare predictions\n",
    "            correct += np.sum(np.squeeze(pred.eq(target.data.view_as(pred))).cpu().numpy())\n",
    "            total += data.size(0)\n",
    "        \n",
    "        train_loss = train_loss/len(train_ds)\n",
    "        valid_loss = valid_loss/len(val_ds)\n",
    "        valid_acc = correct / total\n",
    "        current_lr = optimizer.param_groups[0]['lr']\n",
    "\n",
    "        trainingloss.append(train_loss)\n",
    "        validationloss.append(valid_loss)\n",
    "\n",
    "        # printing training/validation statistics \n",
    "        print('Epoch: {} \\nTraining Loss: {:.6f} \\nValidation Loss: {:.6f} \\nValidation Accuracy: {:.6f} \\nCorrect: {} / {} \\nCurrent LR: {}'.format(\n",
    "            epoch, \n",
    "            train_loss,\n",
    "            valid_loss,\n",
    "            valid_acc,\n",
    "            correct,\n",
    "            total,\n",
    "            current_lr\n",
    "            ))\n",
    "        \n",
    "        ## saving the model if validation loss has decreased\n",
    "        if valid_loss < valid_loss_min:\n",
    "            torch.save(model.state_dict(), save_path)\n",
    "            \n",
    "            valid_loss_min = valid_loss\n",
    "            \n",
    "    # return trained model\n",
    "    return model, trainingloss, validationloss"
   ]
  },
  {
   "attachments": {},
   "cell_type": "markdown",
   "metadata": {},
   "source": [
    "Split Data into Train, Test, Validation and Create DataLoaders:"
   ]
  },
  {
   "cell_type": "code",
   "execution_count": 7,
   "metadata": {},
   "outputs": [],
   "source": [
    "# creating data: train, validation, test\n",
    "train_df, val_df = train_test_split(featuresdf, test_size=0.4)\n",
    "val_df, test_df = train_test_split(val_df,test_size=0.5)\n",
    "\n",
    "train_ds = UrbanSound8kDataset(train_df, transform=img_transforms['train'])\n",
    "val_ds = UrbanSound8kDataset(val_df, transform=img_transforms['valid'])\n",
    "test_ds = UrbanSound8kDataset(test_df, transform=img_transforms['valid'])\n",
    "\n",
    "#Creating loaders for the dataset\n",
    "loaders_transfer={\n",
    "    'train':torch.utils.data.DataLoader(train_ds,batch_size,shuffle=True),\n",
    "    'valid':torch.utils.data.DataLoader(val_ds,batch_size,shuffle=False),\n",
    "    'test':torch.utils.data.DataLoader(test_ds,batch_size,shuffle=False),\n",
    "}"
   ]
  },
  {
   "attachments": {},
   "cell_type": "markdown",
   "metadata": {},
   "source": [
    "Train and Save the Model:"
   ]
  },
  {
   "cell_type": "code",
   "execution_count": 8,
   "metadata": {},
   "outputs": [
    {
     "name": "stdout",
     "output_type": "stream",
     "text": [
      "Epoch: 1 \n",
      "Training Loss: 0.000213 \n",
      "Validation Loss: 0.001064 \n",
      "Validation Accuracy: 0.570201 \n",
      "Correct: 995.0 / 1745.0 \n",
      "Current LR: 0.0015\n",
      "Epoch: 2 \n",
      "Training Loss: 0.000132 \n",
      "Validation Loss: 0.000715 \n",
      "Validation Accuracy: 0.738682 \n",
      "Correct: 1289.0 / 1745.0 \n",
      "Current LR: 0.0015\n",
      "Epoch: 3 \n",
      "Training Loss: 0.000095 \n",
      "Validation Loss: 0.000370 \n",
      "Validation Accuracy: 0.807450 \n",
      "Correct: 1409.0 / 1745.0 \n",
      "Current LR: 0.0015\n",
      "Epoch: 4 \n",
      "Training Loss: 0.000078 \n",
      "Validation Loss: 0.000429 \n",
      "Validation Accuracy: 0.778797 \n",
      "Correct: 1359.0 / 1745.0 \n",
      "Current LR: 0.0015\n",
      "Epoch: 5 \n",
      "Training Loss: 0.000072 \n",
      "Validation Loss: 0.000441 \n",
      "Validation Accuracy: 0.760458 \n",
      "Correct: 1327.0 / 1745.0 \n",
      "Current LR: 0.0015\n",
      "Epoch: 6 \n",
      "Training Loss: 0.000057 \n",
      "Validation Loss: 0.000346 \n",
      "Validation Accuracy: 0.822350 \n",
      "Correct: 1435.0 / 1745.0 \n",
      "Current LR: 0.0015\n",
      "Epoch: 7 \n",
      "Training Loss: 0.000053 \n",
      "Validation Loss: 0.000272 \n",
      "Validation Accuracy: 0.861891 \n",
      "Correct: 1504.0 / 1745.0 \n",
      "Current LR: 0.0015\n",
      "Epoch: 8 \n",
      "Training Loss: 0.000047 \n",
      "Validation Loss: 0.000278 \n",
      "Validation Accuracy: 0.870487 \n",
      "Correct: 1519.0 / 1745.0 \n",
      "Current LR: 0.0015\n",
      "Epoch: 9 \n",
      "Training Loss: 0.000043 \n",
      "Validation Loss: 0.000205 \n",
      "Validation Accuracy: 0.895702 \n",
      "Correct: 1563.0 / 1745.0 \n",
      "Current LR: 0.0015\n",
      "Epoch: 10 \n",
      "Training Loss: 0.000039 \n",
      "Validation Loss: 0.000199 \n",
      "Validation Accuracy: 0.904298 \n",
      "Correct: 1578.0 / 1745.0 \n",
      "Current LR: 0.0015\n",
      "Epoch: 11 \n",
      "Training Loss: 0.000031 \n",
      "Validation Loss: 0.000154 \n",
      "Validation Accuracy: 0.923209 \n",
      "Correct: 1611.0 / 1745.0 \n",
      "Current LR: 0.0015\n",
      "Epoch: 12 \n",
      "Training Loss: 0.000031 \n",
      "Validation Loss: 0.000228 \n",
      "Validation Accuracy: 0.895129 \n",
      "Correct: 1562.0 / 1745.0 \n",
      "Current LR: 0.0015\n",
      "Epoch: 13 \n",
      "Training Loss: 0.000035 \n",
      "Validation Loss: 0.000220 \n",
      "Validation Accuracy: 0.903725 \n",
      "Correct: 1577.0 / 1745.0 \n",
      "Current LR: 0.0015\n",
      "Epoch: 14 \n",
      "Training Loss: 0.000028 \n",
      "Validation Loss: 0.000246 \n",
      "Validation Accuracy: 0.892264 \n",
      "Correct: 1557.0 / 1745.0 \n",
      "Current LR: 0.0015\n",
      "Epoch: 15 \n",
      "Training Loss: 0.000030 \n",
      "Validation Loss: 0.000249 \n",
      "Validation Accuracy: 0.886533 \n",
      "Correct: 1547.0 / 1745.0 \n",
      "Current LR: 0.0015\n",
      "Epoch: 16 \n",
      "Training Loss: 0.000026 \n",
      "Validation Loss: 0.000289 \n",
      "Validation Accuracy: 0.876218 \n",
      "Correct: 1529.0 / 1745.0 \n",
      "Current LR: 0.0015\n",
      "Epoch: 17 \n",
      "Training Loss: 0.000028 \n",
      "Validation Loss: 0.000337 \n",
      "Validation Accuracy: 0.871060 \n",
      "Correct: 1520.0 / 1745.0 \n",
      "Current LR: 0.0015\n",
      "Epoch: 18 \n",
      "Training Loss: 0.000024 \n",
      "Validation Loss: 0.000211 \n",
      "Validation Accuracy: 0.904298 \n",
      "Correct: 1578.0 / 1745.0 \n",
      "Current LR: 0.0015\n",
      "Epoch: 19 \n",
      "Training Loss: 0.000020 \n",
      "Validation Loss: 0.000202 \n",
      "Validation Accuracy: 0.916905 \n",
      "Correct: 1600.0 / 1745.0 \n",
      "Current LR: 0.0015\n",
      "Epoch: 20 \n",
      "Training Loss: 0.000025 \n",
      "Validation Loss: 0.000193 \n",
      "Validation Accuracy: 0.914613 \n",
      "Correct: 1596.0 / 1745.0 \n",
      "Current LR: 0.0015\n",
      "Epoch: 21 \n",
      "Training Loss: 0.000021 \n",
      "Validation Loss: 0.000311 \n",
      "Validation Accuracy: 0.876218 \n",
      "Correct: 1529.0 / 1745.0 \n",
      "Current LR: 0.0015\n",
      "Epoch: 22 \n",
      "Training Loss: 0.000020 \n",
      "Validation Loss: 0.000370 \n",
      "Validation Accuracy: 0.871060 \n",
      "Correct: 1520.0 / 1745.0 \n",
      "Current LR: 0.0015\n",
      "Epoch: 23 \n",
      "Training Loss: 0.000019 \n",
      "Validation Loss: 0.000347 \n",
      "Validation Accuracy: 0.853295 \n",
      "Correct: 1489.0 / 1745.0 \n",
      "Current LR: 0.0015\n",
      "Epoch: 24 \n",
      "Training Loss: 0.000023 \n",
      "Validation Loss: 0.000301 \n",
      "Validation Accuracy: 0.885387 \n",
      "Correct: 1545.0 / 1745.0 \n",
      "Current LR: 0.0015\n",
      "Epoch: 25 \n",
      "Training Loss: 0.000019 \n",
      "Validation Loss: 0.000173 \n",
      "Validation Accuracy: 0.932951 \n",
      "Correct: 1628.0 / 1745.0 \n",
      "Current LR: 0.0015\n",
      "Epoch: 26 \n",
      "Training Loss: 0.000018 \n",
      "Validation Loss: 0.000184 \n",
      "Validation Accuracy: 0.929513 \n",
      "Correct: 1622.0 / 1745.0 \n",
      "Current LR: 0.0015\n",
      "Epoch: 27 \n",
      "Training Loss: 0.000018 \n",
      "Validation Loss: 0.000684 \n",
      "Validation Accuracy: 0.773066 \n",
      "Correct: 1349.0 / 1745.0 \n",
      "Current LR: 0.0015\n",
      "Epoch: 28 \n",
      "Training Loss: 0.000025 \n",
      "Validation Loss: 0.000297 \n",
      "Validation Accuracy: 0.888252 \n",
      "Correct: 1550.0 / 1745.0 \n",
      "Current LR: 0.0015\n",
      "Epoch: 29 \n",
      "Training Loss: 0.000023 \n",
      "Validation Loss: 0.000263 \n",
      "Validation Accuracy: 0.899140 \n",
      "Correct: 1569.0 / 1745.0 \n",
      "Current LR: 0.0015\n",
      "Epoch: 30 \n",
      "Training Loss: 0.000015 \n",
      "Validation Loss: 0.000316 \n",
      "Validation Accuracy: 0.883668 \n",
      "Correct: 1542.0 / 1745.0 \n",
      "Current LR: 0.0015\n"
     ]
    },
    {
     "data": {
      "text/plain": [
       "(EfficientNet(\n",
       "   (_conv_stem): Conv2dStaticSamePadding(\n",
       "     3, 32, kernel_size=(3, 3), stride=(2, 2), bias=False\n",
       "     (static_padding): ZeroPad2d((0, 1, 0, 1))\n",
       "   )\n",
       "   (_bn0): BatchNorm2d(32, eps=0.001, momentum=0.010000000000000009, affine=True, track_running_stats=True)\n",
       "   (_blocks): ModuleList(\n",
       "     (0): MBConvBlock(\n",
       "       (_depthwise_conv): Conv2dStaticSamePadding(\n",
       "         32, 32, kernel_size=(3, 3), stride=[1, 1], groups=32, bias=False\n",
       "         (static_padding): ZeroPad2d((1, 1, 1, 1))\n",
       "       )\n",
       "       (_bn1): BatchNorm2d(32, eps=0.001, momentum=0.010000000000000009, affine=True, track_running_stats=True)\n",
       "       (_se_reduce): Conv2dStaticSamePadding(\n",
       "         32, 8, kernel_size=(1, 1), stride=(1, 1)\n",
       "         (static_padding): Identity()\n",
       "       )\n",
       "       (_se_expand): Conv2dStaticSamePadding(\n",
       "         8, 32, kernel_size=(1, 1), stride=(1, 1)\n",
       "         (static_padding): Identity()\n",
       "       )\n",
       "       (_project_conv): Conv2dStaticSamePadding(\n",
       "         32, 16, kernel_size=(1, 1), stride=(1, 1), bias=False\n",
       "         (static_padding): Identity()\n",
       "       )\n",
       "       (_bn2): BatchNorm2d(16, eps=0.001, momentum=0.010000000000000009, affine=True, track_running_stats=True)\n",
       "       (_swish): MemoryEfficientSwish()\n",
       "     )\n",
       "     (1): MBConvBlock(\n",
       "       (_expand_conv): Conv2dStaticSamePadding(\n",
       "         16, 96, kernel_size=(1, 1), stride=(1, 1), bias=False\n",
       "         (static_padding): Identity()\n",
       "       )\n",
       "       (_bn0): BatchNorm2d(96, eps=0.001, momentum=0.010000000000000009, affine=True, track_running_stats=True)\n",
       "       (_depthwise_conv): Conv2dStaticSamePadding(\n",
       "         96, 96, kernel_size=(3, 3), stride=[2, 2], groups=96, bias=False\n",
       "         (static_padding): ZeroPad2d((0, 1, 0, 1))\n",
       "       )\n",
       "       (_bn1): BatchNorm2d(96, eps=0.001, momentum=0.010000000000000009, affine=True, track_running_stats=True)\n",
       "       (_se_reduce): Conv2dStaticSamePadding(\n",
       "         96, 4, kernel_size=(1, 1), stride=(1, 1)\n",
       "         (static_padding): Identity()\n",
       "       )\n",
       "       (_se_expand): Conv2dStaticSamePadding(\n",
       "         4, 96, kernel_size=(1, 1), stride=(1, 1)\n",
       "         (static_padding): Identity()\n",
       "       )\n",
       "       (_project_conv): Conv2dStaticSamePadding(\n",
       "         96, 24, kernel_size=(1, 1), stride=(1, 1), bias=False\n",
       "         (static_padding): Identity()\n",
       "       )\n",
       "       (_bn2): BatchNorm2d(24, eps=0.001, momentum=0.010000000000000009, affine=True, track_running_stats=True)\n",
       "       (_swish): MemoryEfficientSwish()\n",
       "     )\n",
       "     (2): MBConvBlock(\n",
       "       (_expand_conv): Conv2dStaticSamePadding(\n",
       "         24, 144, kernel_size=(1, 1), stride=(1, 1), bias=False\n",
       "         (static_padding): Identity()\n",
       "       )\n",
       "       (_bn0): BatchNorm2d(144, eps=0.001, momentum=0.010000000000000009, affine=True, track_running_stats=True)\n",
       "       (_depthwise_conv): Conv2dStaticSamePadding(\n",
       "         144, 144, kernel_size=(3, 3), stride=(1, 1), groups=144, bias=False\n",
       "         (static_padding): ZeroPad2d((1, 1, 1, 1))\n",
       "       )\n",
       "       (_bn1): BatchNorm2d(144, eps=0.001, momentum=0.010000000000000009, affine=True, track_running_stats=True)\n",
       "       (_se_reduce): Conv2dStaticSamePadding(\n",
       "         144, 6, kernel_size=(1, 1), stride=(1, 1)\n",
       "         (static_padding): Identity()\n",
       "       )\n",
       "       (_se_expand): Conv2dStaticSamePadding(\n",
       "         6, 144, kernel_size=(1, 1), stride=(1, 1)\n",
       "         (static_padding): Identity()\n",
       "       )\n",
       "       (_project_conv): Conv2dStaticSamePadding(\n",
       "         144, 24, kernel_size=(1, 1), stride=(1, 1), bias=False\n",
       "         (static_padding): Identity()\n",
       "       )\n",
       "       (_bn2): BatchNorm2d(24, eps=0.001, momentum=0.010000000000000009, affine=True, track_running_stats=True)\n",
       "       (_swish): MemoryEfficientSwish()\n",
       "     )\n",
       "     (3): MBConvBlock(\n",
       "       (_expand_conv): Conv2dStaticSamePadding(\n",
       "         24, 144, kernel_size=(1, 1), stride=(1, 1), bias=False\n",
       "         (static_padding): Identity()\n",
       "       )\n",
       "       (_bn0): BatchNorm2d(144, eps=0.001, momentum=0.010000000000000009, affine=True, track_running_stats=True)\n",
       "       (_depthwise_conv): Conv2dStaticSamePadding(\n",
       "         144, 144, kernel_size=(5, 5), stride=[2, 2], groups=144, bias=False\n",
       "         (static_padding): ZeroPad2d((1, 2, 1, 2))\n",
       "       )\n",
       "       (_bn1): BatchNorm2d(144, eps=0.001, momentum=0.010000000000000009, affine=True, track_running_stats=True)\n",
       "       (_se_reduce): Conv2dStaticSamePadding(\n",
       "         144, 6, kernel_size=(1, 1), stride=(1, 1)\n",
       "         (static_padding): Identity()\n",
       "       )\n",
       "       (_se_expand): Conv2dStaticSamePadding(\n",
       "         6, 144, kernel_size=(1, 1), stride=(1, 1)\n",
       "         (static_padding): Identity()\n",
       "       )\n",
       "       (_project_conv): Conv2dStaticSamePadding(\n",
       "         144, 40, kernel_size=(1, 1), stride=(1, 1), bias=False\n",
       "         (static_padding): Identity()\n",
       "       )\n",
       "       (_bn2): BatchNorm2d(40, eps=0.001, momentum=0.010000000000000009, affine=True, track_running_stats=True)\n",
       "       (_swish): MemoryEfficientSwish()\n",
       "     )\n",
       "     (4): MBConvBlock(\n",
       "       (_expand_conv): Conv2dStaticSamePadding(\n",
       "         40, 240, kernel_size=(1, 1), stride=(1, 1), bias=False\n",
       "         (static_padding): Identity()\n",
       "       )\n",
       "       (_bn0): BatchNorm2d(240, eps=0.001, momentum=0.010000000000000009, affine=True, track_running_stats=True)\n",
       "       (_depthwise_conv): Conv2dStaticSamePadding(\n",
       "         240, 240, kernel_size=(5, 5), stride=(1, 1), groups=240, bias=False\n",
       "         (static_padding): ZeroPad2d((2, 2, 2, 2))\n",
       "       )\n",
       "       (_bn1): BatchNorm2d(240, eps=0.001, momentum=0.010000000000000009, affine=True, track_running_stats=True)\n",
       "       (_se_reduce): Conv2dStaticSamePadding(\n",
       "         240, 10, kernel_size=(1, 1), stride=(1, 1)\n",
       "         (static_padding): Identity()\n",
       "       )\n",
       "       (_se_expand): Conv2dStaticSamePadding(\n",
       "         10, 240, kernel_size=(1, 1), stride=(1, 1)\n",
       "         (static_padding): Identity()\n",
       "       )\n",
       "       (_project_conv): Conv2dStaticSamePadding(\n",
       "         240, 40, kernel_size=(1, 1), stride=(1, 1), bias=False\n",
       "         (static_padding): Identity()\n",
       "       )\n",
       "       (_bn2): BatchNorm2d(40, eps=0.001, momentum=0.010000000000000009, affine=True, track_running_stats=True)\n",
       "       (_swish): MemoryEfficientSwish()\n",
       "     )\n",
       "     (5): MBConvBlock(\n",
       "       (_expand_conv): Conv2dStaticSamePadding(\n",
       "         40, 240, kernel_size=(1, 1), stride=(1, 1), bias=False\n",
       "         (static_padding): Identity()\n",
       "       )\n",
       "       (_bn0): BatchNorm2d(240, eps=0.001, momentum=0.010000000000000009, affine=True, track_running_stats=True)\n",
       "       (_depthwise_conv): Conv2dStaticSamePadding(\n",
       "         240, 240, kernel_size=(3, 3), stride=[2, 2], groups=240, bias=False\n",
       "         (static_padding): ZeroPad2d((0, 1, 0, 1))\n",
       "       )\n",
       "       (_bn1): BatchNorm2d(240, eps=0.001, momentum=0.010000000000000009, affine=True, track_running_stats=True)\n",
       "       (_se_reduce): Conv2dStaticSamePadding(\n",
       "         240, 10, kernel_size=(1, 1), stride=(1, 1)\n",
       "         (static_padding): Identity()\n",
       "       )\n",
       "       (_se_expand): Conv2dStaticSamePadding(\n",
       "         10, 240, kernel_size=(1, 1), stride=(1, 1)\n",
       "         (static_padding): Identity()\n",
       "       )\n",
       "       (_project_conv): Conv2dStaticSamePadding(\n",
       "         240, 80, kernel_size=(1, 1), stride=(1, 1), bias=False\n",
       "         (static_padding): Identity()\n",
       "       )\n",
       "       (_bn2): BatchNorm2d(80, eps=0.001, momentum=0.010000000000000009, affine=True, track_running_stats=True)\n",
       "       (_swish): MemoryEfficientSwish()\n",
       "     )\n",
       "     (6): MBConvBlock(\n",
       "       (_expand_conv): Conv2dStaticSamePadding(\n",
       "         80, 480, kernel_size=(1, 1), stride=(1, 1), bias=False\n",
       "         (static_padding): Identity()\n",
       "       )\n",
       "       (_bn0): BatchNorm2d(480, eps=0.001, momentum=0.010000000000000009, affine=True, track_running_stats=True)\n",
       "       (_depthwise_conv): Conv2dStaticSamePadding(\n",
       "         480, 480, kernel_size=(3, 3), stride=(1, 1), groups=480, bias=False\n",
       "         (static_padding): ZeroPad2d((1, 1, 1, 1))\n",
       "       )\n",
       "       (_bn1): BatchNorm2d(480, eps=0.001, momentum=0.010000000000000009, affine=True, track_running_stats=True)\n",
       "       (_se_reduce): Conv2dStaticSamePadding(\n",
       "         480, 20, kernel_size=(1, 1), stride=(1, 1)\n",
       "         (static_padding): Identity()\n",
       "       )\n",
       "       (_se_expand): Conv2dStaticSamePadding(\n",
       "         20, 480, kernel_size=(1, 1), stride=(1, 1)\n",
       "         (static_padding): Identity()\n",
       "       )\n",
       "       (_project_conv): Conv2dStaticSamePadding(\n",
       "         480, 80, kernel_size=(1, 1), stride=(1, 1), bias=False\n",
       "         (static_padding): Identity()\n",
       "       )\n",
       "       (_bn2): BatchNorm2d(80, eps=0.001, momentum=0.010000000000000009, affine=True, track_running_stats=True)\n",
       "       (_swish): MemoryEfficientSwish()\n",
       "     )\n",
       "     (7): MBConvBlock(\n",
       "       (_expand_conv): Conv2dStaticSamePadding(\n",
       "         80, 480, kernel_size=(1, 1), stride=(1, 1), bias=False\n",
       "         (static_padding): Identity()\n",
       "       )\n",
       "       (_bn0): BatchNorm2d(480, eps=0.001, momentum=0.010000000000000009, affine=True, track_running_stats=True)\n",
       "       (_depthwise_conv): Conv2dStaticSamePadding(\n",
       "         480, 480, kernel_size=(3, 3), stride=(1, 1), groups=480, bias=False\n",
       "         (static_padding): ZeroPad2d((1, 1, 1, 1))\n",
       "       )\n",
       "       (_bn1): BatchNorm2d(480, eps=0.001, momentum=0.010000000000000009, affine=True, track_running_stats=True)\n",
       "       (_se_reduce): Conv2dStaticSamePadding(\n",
       "         480, 20, kernel_size=(1, 1), stride=(1, 1)\n",
       "         (static_padding): Identity()\n",
       "       )\n",
       "       (_se_expand): Conv2dStaticSamePadding(\n",
       "         20, 480, kernel_size=(1, 1), stride=(1, 1)\n",
       "         (static_padding): Identity()\n",
       "       )\n",
       "       (_project_conv): Conv2dStaticSamePadding(\n",
       "         480, 80, kernel_size=(1, 1), stride=(1, 1), bias=False\n",
       "         (static_padding): Identity()\n",
       "       )\n",
       "       (_bn2): BatchNorm2d(80, eps=0.001, momentum=0.010000000000000009, affine=True, track_running_stats=True)\n",
       "       (_swish): MemoryEfficientSwish()\n",
       "     )\n",
       "     (8): MBConvBlock(\n",
       "       (_expand_conv): Conv2dStaticSamePadding(\n",
       "         80, 480, kernel_size=(1, 1), stride=(1, 1), bias=False\n",
       "         (static_padding): Identity()\n",
       "       )\n",
       "       (_bn0): BatchNorm2d(480, eps=0.001, momentum=0.010000000000000009, affine=True, track_running_stats=True)\n",
       "       (_depthwise_conv): Conv2dStaticSamePadding(\n",
       "         480, 480, kernel_size=(5, 5), stride=[1, 1], groups=480, bias=False\n",
       "         (static_padding): ZeroPad2d((2, 2, 2, 2))\n",
       "       )\n",
       "       (_bn1): BatchNorm2d(480, eps=0.001, momentum=0.010000000000000009, affine=True, track_running_stats=True)\n",
       "       (_se_reduce): Conv2dStaticSamePadding(\n",
       "         480, 20, kernel_size=(1, 1), stride=(1, 1)\n",
       "         (static_padding): Identity()\n",
       "       )\n",
       "       (_se_expand): Conv2dStaticSamePadding(\n",
       "         20, 480, kernel_size=(1, 1), stride=(1, 1)\n",
       "         (static_padding): Identity()\n",
       "       )\n",
       "       (_project_conv): Conv2dStaticSamePadding(\n",
       "         480, 112, kernel_size=(1, 1), stride=(1, 1), bias=False\n",
       "         (static_padding): Identity()\n",
       "       )\n",
       "       (_bn2): BatchNorm2d(112, eps=0.001, momentum=0.010000000000000009, affine=True, track_running_stats=True)\n",
       "       (_swish): MemoryEfficientSwish()\n",
       "     )\n",
       "     (9): MBConvBlock(\n",
       "       (_expand_conv): Conv2dStaticSamePadding(\n",
       "         112, 672, kernel_size=(1, 1), stride=(1, 1), bias=False\n",
       "         (static_padding): Identity()\n",
       "       )\n",
       "       (_bn0): BatchNorm2d(672, eps=0.001, momentum=0.010000000000000009, affine=True, track_running_stats=True)\n",
       "       (_depthwise_conv): Conv2dStaticSamePadding(\n",
       "         672, 672, kernel_size=(5, 5), stride=(1, 1), groups=672, bias=False\n",
       "         (static_padding): ZeroPad2d((2, 2, 2, 2))\n",
       "       )\n",
       "       (_bn1): BatchNorm2d(672, eps=0.001, momentum=0.010000000000000009, affine=True, track_running_stats=True)\n",
       "       (_se_reduce): Conv2dStaticSamePadding(\n",
       "         672, 28, kernel_size=(1, 1), stride=(1, 1)\n",
       "         (static_padding): Identity()\n",
       "       )\n",
       "       (_se_expand): Conv2dStaticSamePadding(\n",
       "         28, 672, kernel_size=(1, 1), stride=(1, 1)\n",
       "         (static_padding): Identity()\n",
       "       )\n",
       "       (_project_conv): Conv2dStaticSamePadding(\n",
       "         672, 112, kernel_size=(1, 1), stride=(1, 1), bias=False\n",
       "         (static_padding): Identity()\n",
       "       )\n",
       "       (_bn2): BatchNorm2d(112, eps=0.001, momentum=0.010000000000000009, affine=True, track_running_stats=True)\n",
       "       (_swish): MemoryEfficientSwish()\n",
       "     )\n",
       "     (10): MBConvBlock(\n",
       "       (_expand_conv): Conv2dStaticSamePadding(\n",
       "         112, 672, kernel_size=(1, 1), stride=(1, 1), bias=False\n",
       "         (static_padding): Identity()\n",
       "       )\n",
       "       (_bn0): BatchNorm2d(672, eps=0.001, momentum=0.010000000000000009, affine=True, track_running_stats=True)\n",
       "       (_depthwise_conv): Conv2dStaticSamePadding(\n",
       "         672, 672, kernel_size=(5, 5), stride=(1, 1), groups=672, bias=False\n",
       "         (static_padding): ZeroPad2d((2, 2, 2, 2))\n",
       "       )\n",
       "       (_bn1): BatchNorm2d(672, eps=0.001, momentum=0.010000000000000009, affine=True, track_running_stats=True)\n",
       "       (_se_reduce): Conv2dStaticSamePadding(\n",
       "         672, 28, kernel_size=(1, 1), stride=(1, 1)\n",
       "         (static_padding): Identity()\n",
       "       )\n",
       "       (_se_expand): Conv2dStaticSamePadding(\n",
       "         28, 672, kernel_size=(1, 1), stride=(1, 1)\n",
       "         (static_padding): Identity()\n",
       "       )\n",
       "       (_project_conv): Conv2dStaticSamePadding(\n",
       "         672, 112, kernel_size=(1, 1), stride=(1, 1), bias=False\n",
       "         (static_padding): Identity()\n",
       "       )\n",
       "       (_bn2): BatchNorm2d(112, eps=0.001, momentum=0.010000000000000009, affine=True, track_running_stats=True)\n",
       "       (_swish): MemoryEfficientSwish()\n",
       "     )\n",
       "     (11): MBConvBlock(\n",
       "       (_expand_conv): Conv2dStaticSamePadding(\n",
       "         112, 672, kernel_size=(1, 1), stride=(1, 1), bias=False\n",
       "         (static_padding): Identity()\n",
       "       )\n",
       "       (_bn0): BatchNorm2d(672, eps=0.001, momentum=0.010000000000000009, affine=True, track_running_stats=True)\n",
       "       (_depthwise_conv): Conv2dStaticSamePadding(\n",
       "         672, 672, kernel_size=(5, 5), stride=[2, 2], groups=672, bias=False\n",
       "         (static_padding): ZeroPad2d((1, 2, 1, 2))\n",
       "       )\n",
       "       (_bn1): BatchNorm2d(672, eps=0.001, momentum=0.010000000000000009, affine=True, track_running_stats=True)\n",
       "       (_se_reduce): Conv2dStaticSamePadding(\n",
       "         672, 28, kernel_size=(1, 1), stride=(1, 1)\n",
       "         (static_padding): Identity()\n",
       "       )\n",
       "       (_se_expand): Conv2dStaticSamePadding(\n",
       "         28, 672, kernel_size=(1, 1), stride=(1, 1)\n",
       "         (static_padding): Identity()\n",
       "       )\n",
       "       (_project_conv): Conv2dStaticSamePadding(\n",
       "         672, 192, kernel_size=(1, 1), stride=(1, 1), bias=False\n",
       "         (static_padding): Identity()\n",
       "       )\n",
       "       (_bn2): BatchNorm2d(192, eps=0.001, momentum=0.010000000000000009, affine=True, track_running_stats=True)\n",
       "       (_swish): MemoryEfficientSwish()\n",
       "     )\n",
       "     (12): MBConvBlock(\n",
       "       (_expand_conv): Conv2dStaticSamePadding(\n",
       "         192, 1152, kernel_size=(1, 1), stride=(1, 1), bias=False\n",
       "         (static_padding): Identity()\n",
       "       )\n",
       "       (_bn0): BatchNorm2d(1152, eps=0.001, momentum=0.010000000000000009, affine=True, track_running_stats=True)\n",
       "       (_depthwise_conv): Conv2dStaticSamePadding(\n",
       "         1152, 1152, kernel_size=(5, 5), stride=(1, 1), groups=1152, bias=False\n",
       "         (static_padding): ZeroPad2d((2, 2, 2, 2))\n",
       "       )\n",
       "       (_bn1): BatchNorm2d(1152, eps=0.001, momentum=0.010000000000000009, affine=True, track_running_stats=True)\n",
       "       (_se_reduce): Conv2dStaticSamePadding(\n",
       "         1152, 48, kernel_size=(1, 1), stride=(1, 1)\n",
       "         (static_padding): Identity()\n",
       "       )\n",
       "       (_se_expand): Conv2dStaticSamePadding(\n",
       "         48, 1152, kernel_size=(1, 1), stride=(1, 1)\n",
       "         (static_padding): Identity()\n",
       "       )\n",
       "       (_project_conv): Conv2dStaticSamePadding(\n",
       "         1152, 192, kernel_size=(1, 1), stride=(1, 1), bias=False\n",
       "         (static_padding): Identity()\n",
       "       )\n",
       "       (_bn2): BatchNorm2d(192, eps=0.001, momentum=0.010000000000000009, affine=True, track_running_stats=True)\n",
       "       (_swish): MemoryEfficientSwish()\n",
       "     )\n",
       "     (13): MBConvBlock(\n",
       "       (_expand_conv): Conv2dStaticSamePadding(\n",
       "         192, 1152, kernel_size=(1, 1), stride=(1, 1), bias=False\n",
       "         (static_padding): Identity()\n",
       "       )\n",
       "       (_bn0): BatchNorm2d(1152, eps=0.001, momentum=0.010000000000000009, affine=True, track_running_stats=True)\n",
       "       (_depthwise_conv): Conv2dStaticSamePadding(\n",
       "         1152, 1152, kernel_size=(5, 5), stride=(1, 1), groups=1152, bias=False\n",
       "         (static_padding): ZeroPad2d((2, 2, 2, 2))\n",
       "       )\n",
       "       (_bn1): BatchNorm2d(1152, eps=0.001, momentum=0.010000000000000009, affine=True, track_running_stats=True)\n",
       "       (_se_reduce): Conv2dStaticSamePadding(\n",
       "         1152, 48, kernel_size=(1, 1), stride=(1, 1)\n",
       "         (static_padding): Identity()\n",
       "       )\n",
       "       (_se_expand): Conv2dStaticSamePadding(\n",
       "         48, 1152, kernel_size=(1, 1), stride=(1, 1)\n",
       "         (static_padding): Identity()\n",
       "       )\n",
       "       (_project_conv): Conv2dStaticSamePadding(\n",
       "         1152, 192, kernel_size=(1, 1), stride=(1, 1), bias=False\n",
       "         (static_padding): Identity()\n",
       "       )\n",
       "       (_bn2): BatchNorm2d(192, eps=0.001, momentum=0.010000000000000009, affine=True, track_running_stats=True)\n",
       "       (_swish): MemoryEfficientSwish()\n",
       "     )\n",
       "     (14): MBConvBlock(\n",
       "       (_expand_conv): Conv2dStaticSamePadding(\n",
       "         192, 1152, kernel_size=(1, 1), stride=(1, 1), bias=False\n",
       "         (static_padding): Identity()\n",
       "       )\n",
       "       (_bn0): BatchNorm2d(1152, eps=0.001, momentum=0.010000000000000009, affine=True, track_running_stats=True)\n",
       "       (_depthwise_conv): Conv2dStaticSamePadding(\n",
       "         1152, 1152, kernel_size=(5, 5), stride=(1, 1), groups=1152, bias=False\n",
       "         (static_padding): ZeroPad2d((2, 2, 2, 2))\n",
       "       )\n",
       "       (_bn1): BatchNorm2d(1152, eps=0.001, momentum=0.010000000000000009, affine=True, track_running_stats=True)\n",
       "       (_se_reduce): Conv2dStaticSamePadding(\n",
       "         1152, 48, kernel_size=(1, 1), stride=(1, 1)\n",
       "         (static_padding): Identity()\n",
       "       )\n",
       "       (_se_expand): Conv2dStaticSamePadding(\n",
       "         48, 1152, kernel_size=(1, 1), stride=(1, 1)\n",
       "         (static_padding): Identity()\n",
       "       )\n",
       "       (_project_conv): Conv2dStaticSamePadding(\n",
       "         1152, 192, kernel_size=(1, 1), stride=(1, 1), bias=False\n",
       "         (static_padding): Identity()\n",
       "       )\n",
       "       (_bn2): BatchNorm2d(192, eps=0.001, momentum=0.010000000000000009, affine=True, track_running_stats=True)\n",
       "       (_swish): MemoryEfficientSwish()\n",
       "     )\n",
       "     (15): MBConvBlock(\n",
       "       (_expand_conv): Conv2dStaticSamePadding(\n",
       "         192, 1152, kernel_size=(1, 1), stride=(1, 1), bias=False\n",
       "         (static_padding): Identity()\n",
       "       )\n",
       "       (_bn0): BatchNorm2d(1152, eps=0.001, momentum=0.010000000000000009, affine=True, track_running_stats=True)\n",
       "       (_depthwise_conv): Conv2dStaticSamePadding(\n",
       "         1152, 1152, kernel_size=(3, 3), stride=[1, 1], groups=1152, bias=False\n",
       "         (static_padding): ZeroPad2d((1, 1, 1, 1))\n",
       "       )\n",
       "       (_bn1): BatchNorm2d(1152, eps=0.001, momentum=0.010000000000000009, affine=True, track_running_stats=True)\n",
       "       (_se_reduce): Conv2dStaticSamePadding(\n",
       "         1152, 48, kernel_size=(1, 1), stride=(1, 1)\n",
       "         (static_padding): Identity()\n",
       "       )\n",
       "       (_se_expand): Conv2dStaticSamePadding(\n",
       "         48, 1152, kernel_size=(1, 1), stride=(1, 1)\n",
       "         (static_padding): Identity()\n",
       "       )\n",
       "       (_project_conv): Conv2dStaticSamePadding(\n",
       "         1152, 320, kernel_size=(1, 1), stride=(1, 1), bias=False\n",
       "         (static_padding): Identity()\n",
       "       )\n",
       "       (_bn2): BatchNorm2d(320, eps=0.001, momentum=0.010000000000000009, affine=True, track_running_stats=True)\n",
       "       (_swish): MemoryEfficientSwish()\n",
       "     )\n",
       "   )\n",
       "   (_conv_head): Conv2dStaticSamePadding(\n",
       "     320, 1280, kernel_size=(1, 1), stride=(1, 1), bias=False\n",
       "     (static_padding): Identity()\n",
       "   )\n",
       "   (_bn1): BatchNorm2d(1280, eps=0.001, momentum=0.010000000000000009, affine=True, track_running_stats=True)\n",
       "   (_avg_pooling): AdaptiveAvgPool2d(output_size=1)\n",
       "   (_dropout): Dropout(p=0.2, inplace=False)\n",
       "   (_fc): Sequential(\n",
       "     (0): Linear(in_features=1280, out_features=10, bias=True)\n",
       "   )\n",
       "   (_swish): MemoryEfficientSwish()\n",
       " ),\n",
       " [tensor(0.0002, device='cuda:0'),\n",
       "  tensor(0.0001, device='cuda:0'),\n",
       "  tensor(9.4522e-05, device='cuda:0'),\n",
       "  tensor(7.7665e-05, device='cuda:0'),\n",
       "  tensor(7.1935e-05, device='cuda:0'),\n",
       "  tensor(5.6896e-05, device='cuda:0'),\n",
       "  tensor(5.3357e-05, device='cuda:0'),\n",
       "  tensor(4.6807e-05, device='cuda:0'),\n",
       "  tensor(4.3294e-05, device='cuda:0'),\n",
       "  tensor(3.8930e-05, device='cuda:0'),\n",
       "  tensor(3.1368e-05, device='cuda:0'),\n",
       "  tensor(3.1288e-05, device='cuda:0'),\n",
       "  tensor(3.5439e-05, device='cuda:0'),\n",
       "  tensor(2.7723e-05, device='cuda:0'),\n",
       "  tensor(2.9989e-05, device='cuda:0'),\n",
       "  tensor(2.6317e-05, device='cuda:0'),\n",
       "  tensor(2.7942e-05, device='cuda:0'),\n",
       "  tensor(2.3899e-05, device='cuda:0'),\n",
       "  tensor(1.9721e-05, device='cuda:0'),\n",
       "  tensor(2.4840e-05, device='cuda:0'),\n",
       "  tensor(2.1286e-05, device='cuda:0'),\n",
       "  tensor(1.9844e-05, device='cuda:0'),\n",
       "  tensor(1.9087e-05, device='cuda:0'),\n",
       "  tensor(2.2583e-05, device='cuda:0'),\n",
       "  tensor(1.8948e-05, device='cuda:0'),\n",
       "  tensor(1.7758e-05, device='cuda:0'),\n",
       "  tensor(1.8052e-05, device='cuda:0'),\n",
       "  tensor(2.4631e-05, device='cuda:0'),\n",
       "  tensor(2.2611e-05, device='cuda:0'),\n",
       "  tensor(1.5302e-05, device='cuda:0')],\n",
       " [tensor(0.0011, device='cuda:0'),\n",
       "  tensor(0.0007, device='cuda:0'),\n",
       "  tensor(0.0004, device='cuda:0'),\n",
       "  tensor(0.0004, device='cuda:0'),\n",
       "  tensor(0.0004, device='cuda:0'),\n",
       "  tensor(0.0003, device='cuda:0'),\n",
       "  tensor(0.0003, device='cuda:0'),\n",
       "  tensor(0.0003, device='cuda:0'),\n",
       "  tensor(0.0002, device='cuda:0'),\n",
       "  tensor(0.0002, device='cuda:0'),\n",
       "  tensor(0.0002, device='cuda:0'),\n",
       "  tensor(0.0002, device='cuda:0'),\n",
       "  tensor(0.0002, device='cuda:0'),\n",
       "  tensor(0.0002, device='cuda:0'),\n",
       "  tensor(0.0002, device='cuda:0'),\n",
       "  tensor(0.0003, device='cuda:0'),\n",
       "  tensor(0.0003, device='cuda:0'),\n",
       "  tensor(0.0002, device='cuda:0'),\n",
       "  tensor(0.0002, device='cuda:0'),\n",
       "  tensor(0.0002, device='cuda:0'),\n",
       "  tensor(0.0003, device='cuda:0'),\n",
       "  tensor(0.0004, device='cuda:0'),\n",
       "  tensor(0.0003, device='cuda:0'),\n",
       "  tensor(0.0003, device='cuda:0'),\n",
       "  tensor(0.0002, device='cuda:0'),\n",
       "  tensor(0.0002, device='cuda:0'),\n",
       "  tensor(0.0007, device='cuda:0'),\n",
       "  tensor(0.0003, device='cuda:0'),\n",
       "  tensor(0.0003, device='cuda:0'),\n",
       "  tensor(0.0003, device='cuda:0')])"
      ]
     },
     "execution_count": 8,
     "metadata": {},
     "output_type": "execute_result"
    }
   ],
   "source": [
    "train_model(n_epochs, loaders_transfer, model_transfer, optimizer_transfer, criterion_transfer, 'model.pt')"
   ]
  },
  {
   "attachments": {},
   "cell_type": "markdown",
   "metadata": {},
   "source": [
    "Load the Trained Model"
   ]
  },
  {
   "cell_type": "code",
   "execution_count": 9,
   "metadata": {},
   "outputs": [
    {
     "name": "stdout",
     "output_type": "stream",
     "text": [
      "Loaded pretrained weights for efficientnet-b0\n"
     ]
    },
    {
     "data": {
      "text/plain": [
       "EfficientNet(\n",
       "  (_conv_stem): Conv2dStaticSamePadding(\n",
       "    3, 32, kernel_size=(3, 3), stride=(2, 2), bias=False\n",
       "    (static_padding): ZeroPad2d((0, 1, 0, 1))\n",
       "  )\n",
       "  (_bn0): BatchNorm2d(32, eps=0.001, momentum=0.010000000000000009, affine=True, track_running_stats=True)\n",
       "  (_blocks): ModuleList(\n",
       "    (0): MBConvBlock(\n",
       "      (_depthwise_conv): Conv2dStaticSamePadding(\n",
       "        32, 32, kernel_size=(3, 3), stride=[1, 1], groups=32, bias=False\n",
       "        (static_padding): ZeroPad2d((1, 1, 1, 1))\n",
       "      )\n",
       "      (_bn1): BatchNorm2d(32, eps=0.001, momentum=0.010000000000000009, affine=True, track_running_stats=True)\n",
       "      (_se_reduce): Conv2dStaticSamePadding(\n",
       "        32, 8, kernel_size=(1, 1), stride=(1, 1)\n",
       "        (static_padding): Identity()\n",
       "      )\n",
       "      (_se_expand): Conv2dStaticSamePadding(\n",
       "        8, 32, kernel_size=(1, 1), stride=(1, 1)\n",
       "        (static_padding): Identity()\n",
       "      )\n",
       "      (_project_conv): Conv2dStaticSamePadding(\n",
       "        32, 16, kernel_size=(1, 1), stride=(1, 1), bias=False\n",
       "        (static_padding): Identity()\n",
       "      )\n",
       "      (_bn2): BatchNorm2d(16, eps=0.001, momentum=0.010000000000000009, affine=True, track_running_stats=True)\n",
       "      (_swish): MemoryEfficientSwish()\n",
       "    )\n",
       "    (1): MBConvBlock(\n",
       "      (_expand_conv): Conv2dStaticSamePadding(\n",
       "        16, 96, kernel_size=(1, 1), stride=(1, 1), bias=False\n",
       "        (static_padding): Identity()\n",
       "      )\n",
       "      (_bn0): BatchNorm2d(96, eps=0.001, momentum=0.010000000000000009, affine=True, track_running_stats=True)\n",
       "      (_depthwise_conv): Conv2dStaticSamePadding(\n",
       "        96, 96, kernel_size=(3, 3), stride=[2, 2], groups=96, bias=False\n",
       "        (static_padding): ZeroPad2d((0, 1, 0, 1))\n",
       "      )\n",
       "      (_bn1): BatchNorm2d(96, eps=0.001, momentum=0.010000000000000009, affine=True, track_running_stats=True)\n",
       "      (_se_reduce): Conv2dStaticSamePadding(\n",
       "        96, 4, kernel_size=(1, 1), stride=(1, 1)\n",
       "        (static_padding): Identity()\n",
       "      )\n",
       "      (_se_expand): Conv2dStaticSamePadding(\n",
       "        4, 96, kernel_size=(1, 1), stride=(1, 1)\n",
       "        (static_padding): Identity()\n",
       "      )\n",
       "      (_project_conv): Conv2dStaticSamePadding(\n",
       "        96, 24, kernel_size=(1, 1), stride=(1, 1), bias=False\n",
       "        (static_padding): Identity()\n",
       "      )\n",
       "      (_bn2): BatchNorm2d(24, eps=0.001, momentum=0.010000000000000009, affine=True, track_running_stats=True)\n",
       "      (_swish): MemoryEfficientSwish()\n",
       "    )\n",
       "    (2): MBConvBlock(\n",
       "      (_expand_conv): Conv2dStaticSamePadding(\n",
       "        24, 144, kernel_size=(1, 1), stride=(1, 1), bias=False\n",
       "        (static_padding): Identity()\n",
       "      )\n",
       "      (_bn0): BatchNorm2d(144, eps=0.001, momentum=0.010000000000000009, affine=True, track_running_stats=True)\n",
       "      (_depthwise_conv): Conv2dStaticSamePadding(\n",
       "        144, 144, kernel_size=(3, 3), stride=(1, 1), groups=144, bias=False\n",
       "        (static_padding): ZeroPad2d((1, 1, 1, 1))\n",
       "      )\n",
       "      (_bn1): BatchNorm2d(144, eps=0.001, momentum=0.010000000000000009, affine=True, track_running_stats=True)\n",
       "      (_se_reduce): Conv2dStaticSamePadding(\n",
       "        144, 6, kernel_size=(1, 1), stride=(1, 1)\n",
       "        (static_padding): Identity()\n",
       "      )\n",
       "      (_se_expand): Conv2dStaticSamePadding(\n",
       "        6, 144, kernel_size=(1, 1), stride=(1, 1)\n",
       "        (static_padding): Identity()\n",
       "      )\n",
       "      (_project_conv): Conv2dStaticSamePadding(\n",
       "        144, 24, kernel_size=(1, 1), stride=(1, 1), bias=False\n",
       "        (static_padding): Identity()\n",
       "      )\n",
       "      (_bn2): BatchNorm2d(24, eps=0.001, momentum=0.010000000000000009, affine=True, track_running_stats=True)\n",
       "      (_swish): MemoryEfficientSwish()\n",
       "    )\n",
       "    (3): MBConvBlock(\n",
       "      (_expand_conv): Conv2dStaticSamePadding(\n",
       "        24, 144, kernel_size=(1, 1), stride=(1, 1), bias=False\n",
       "        (static_padding): Identity()\n",
       "      )\n",
       "      (_bn0): BatchNorm2d(144, eps=0.001, momentum=0.010000000000000009, affine=True, track_running_stats=True)\n",
       "      (_depthwise_conv): Conv2dStaticSamePadding(\n",
       "        144, 144, kernel_size=(5, 5), stride=[2, 2], groups=144, bias=False\n",
       "        (static_padding): ZeroPad2d((1, 2, 1, 2))\n",
       "      )\n",
       "      (_bn1): BatchNorm2d(144, eps=0.001, momentum=0.010000000000000009, affine=True, track_running_stats=True)\n",
       "      (_se_reduce): Conv2dStaticSamePadding(\n",
       "        144, 6, kernel_size=(1, 1), stride=(1, 1)\n",
       "        (static_padding): Identity()\n",
       "      )\n",
       "      (_se_expand): Conv2dStaticSamePadding(\n",
       "        6, 144, kernel_size=(1, 1), stride=(1, 1)\n",
       "        (static_padding): Identity()\n",
       "      )\n",
       "      (_project_conv): Conv2dStaticSamePadding(\n",
       "        144, 40, kernel_size=(1, 1), stride=(1, 1), bias=False\n",
       "        (static_padding): Identity()\n",
       "      )\n",
       "      (_bn2): BatchNorm2d(40, eps=0.001, momentum=0.010000000000000009, affine=True, track_running_stats=True)\n",
       "      (_swish): MemoryEfficientSwish()\n",
       "    )\n",
       "    (4): MBConvBlock(\n",
       "      (_expand_conv): Conv2dStaticSamePadding(\n",
       "        40, 240, kernel_size=(1, 1), stride=(1, 1), bias=False\n",
       "        (static_padding): Identity()\n",
       "      )\n",
       "      (_bn0): BatchNorm2d(240, eps=0.001, momentum=0.010000000000000009, affine=True, track_running_stats=True)\n",
       "      (_depthwise_conv): Conv2dStaticSamePadding(\n",
       "        240, 240, kernel_size=(5, 5), stride=(1, 1), groups=240, bias=False\n",
       "        (static_padding): ZeroPad2d((2, 2, 2, 2))\n",
       "      )\n",
       "      (_bn1): BatchNorm2d(240, eps=0.001, momentum=0.010000000000000009, affine=True, track_running_stats=True)\n",
       "      (_se_reduce): Conv2dStaticSamePadding(\n",
       "        240, 10, kernel_size=(1, 1), stride=(1, 1)\n",
       "        (static_padding): Identity()\n",
       "      )\n",
       "      (_se_expand): Conv2dStaticSamePadding(\n",
       "        10, 240, kernel_size=(1, 1), stride=(1, 1)\n",
       "        (static_padding): Identity()\n",
       "      )\n",
       "      (_project_conv): Conv2dStaticSamePadding(\n",
       "        240, 40, kernel_size=(1, 1), stride=(1, 1), bias=False\n",
       "        (static_padding): Identity()\n",
       "      )\n",
       "      (_bn2): BatchNorm2d(40, eps=0.001, momentum=0.010000000000000009, affine=True, track_running_stats=True)\n",
       "      (_swish): MemoryEfficientSwish()\n",
       "    )\n",
       "    (5): MBConvBlock(\n",
       "      (_expand_conv): Conv2dStaticSamePadding(\n",
       "        40, 240, kernel_size=(1, 1), stride=(1, 1), bias=False\n",
       "        (static_padding): Identity()\n",
       "      )\n",
       "      (_bn0): BatchNorm2d(240, eps=0.001, momentum=0.010000000000000009, affine=True, track_running_stats=True)\n",
       "      (_depthwise_conv): Conv2dStaticSamePadding(\n",
       "        240, 240, kernel_size=(3, 3), stride=[2, 2], groups=240, bias=False\n",
       "        (static_padding): ZeroPad2d((0, 1, 0, 1))\n",
       "      )\n",
       "      (_bn1): BatchNorm2d(240, eps=0.001, momentum=0.010000000000000009, affine=True, track_running_stats=True)\n",
       "      (_se_reduce): Conv2dStaticSamePadding(\n",
       "        240, 10, kernel_size=(1, 1), stride=(1, 1)\n",
       "        (static_padding): Identity()\n",
       "      )\n",
       "      (_se_expand): Conv2dStaticSamePadding(\n",
       "        10, 240, kernel_size=(1, 1), stride=(1, 1)\n",
       "        (static_padding): Identity()\n",
       "      )\n",
       "      (_project_conv): Conv2dStaticSamePadding(\n",
       "        240, 80, kernel_size=(1, 1), stride=(1, 1), bias=False\n",
       "        (static_padding): Identity()\n",
       "      )\n",
       "      (_bn2): BatchNorm2d(80, eps=0.001, momentum=0.010000000000000009, affine=True, track_running_stats=True)\n",
       "      (_swish): MemoryEfficientSwish()\n",
       "    )\n",
       "    (6): MBConvBlock(\n",
       "      (_expand_conv): Conv2dStaticSamePadding(\n",
       "        80, 480, kernel_size=(1, 1), stride=(1, 1), bias=False\n",
       "        (static_padding): Identity()\n",
       "      )\n",
       "      (_bn0): BatchNorm2d(480, eps=0.001, momentum=0.010000000000000009, affine=True, track_running_stats=True)\n",
       "      (_depthwise_conv): Conv2dStaticSamePadding(\n",
       "        480, 480, kernel_size=(3, 3), stride=(1, 1), groups=480, bias=False\n",
       "        (static_padding): ZeroPad2d((1, 1, 1, 1))\n",
       "      )\n",
       "      (_bn1): BatchNorm2d(480, eps=0.001, momentum=0.010000000000000009, affine=True, track_running_stats=True)\n",
       "      (_se_reduce): Conv2dStaticSamePadding(\n",
       "        480, 20, kernel_size=(1, 1), stride=(1, 1)\n",
       "        (static_padding): Identity()\n",
       "      )\n",
       "      (_se_expand): Conv2dStaticSamePadding(\n",
       "        20, 480, kernel_size=(1, 1), stride=(1, 1)\n",
       "        (static_padding): Identity()\n",
       "      )\n",
       "      (_project_conv): Conv2dStaticSamePadding(\n",
       "        480, 80, kernel_size=(1, 1), stride=(1, 1), bias=False\n",
       "        (static_padding): Identity()\n",
       "      )\n",
       "      (_bn2): BatchNorm2d(80, eps=0.001, momentum=0.010000000000000009, affine=True, track_running_stats=True)\n",
       "      (_swish): MemoryEfficientSwish()\n",
       "    )\n",
       "    (7): MBConvBlock(\n",
       "      (_expand_conv): Conv2dStaticSamePadding(\n",
       "        80, 480, kernel_size=(1, 1), stride=(1, 1), bias=False\n",
       "        (static_padding): Identity()\n",
       "      )\n",
       "      (_bn0): BatchNorm2d(480, eps=0.001, momentum=0.010000000000000009, affine=True, track_running_stats=True)\n",
       "      (_depthwise_conv): Conv2dStaticSamePadding(\n",
       "        480, 480, kernel_size=(3, 3), stride=(1, 1), groups=480, bias=False\n",
       "        (static_padding): ZeroPad2d((1, 1, 1, 1))\n",
       "      )\n",
       "      (_bn1): BatchNorm2d(480, eps=0.001, momentum=0.010000000000000009, affine=True, track_running_stats=True)\n",
       "      (_se_reduce): Conv2dStaticSamePadding(\n",
       "        480, 20, kernel_size=(1, 1), stride=(1, 1)\n",
       "        (static_padding): Identity()\n",
       "      )\n",
       "      (_se_expand): Conv2dStaticSamePadding(\n",
       "        20, 480, kernel_size=(1, 1), stride=(1, 1)\n",
       "        (static_padding): Identity()\n",
       "      )\n",
       "      (_project_conv): Conv2dStaticSamePadding(\n",
       "        480, 80, kernel_size=(1, 1), stride=(1, 1), bias=False\n",
       "        (static_padding): Identity()\n",
       "      )\n",
       "      (_bn2): BatchNorm2d(80, eps=0.001, momentum=0.010000000000000009, affine=True, track_running_stats=True)\n",
       "      (_swish): MemoryEfficientSwish()\n",
       "    )\n",
       "    (8): MBConvBlock(\n",
       "      (_expand_conv): Conv2dStaticSamePadding(\n",
       "        80, 480, kernel_size=(1, 1), stride=(1, 1), bias=False\n",
       "        (static_padding): Identity()\n",
       "      )\n",
       "      (_bn0): BatchNorm2d(480, eps=0.001, momentum=0.010000000000000009, affine=True, track_running_stats=True)\n",
       "      (_depthwise_conv): Conv2dStaticSamePadding(\n",
       "        480, 480, kernel_size=(5, 5), stride=[1, 1], groups=480, bias=False\n",
       "        (static_padding): ZeroPad2d((2, 2, 2, 2))\n",
       "      )\n",
       "      (_bn1): BatchNorm2d(480, eps=0.001, momentum=0.010000000000000009, affine=True, track_running_stats=True)\n",
       "      (_se_reduce): Conv2dStaticSamePadding(\n",
       "        480, 20, kernel_size=(1, 1), stride=(1, 1)\n",
       "        (static_padding): Identity()\n",
       "      )\n",
       "      (_se_expand): Conv2dStaticSamePadding(\n",
       "        20, 480, kernel_size=(1, 1), stride=(1, 1)\n",
       "        (static_padding): Identity()\n",
       "      )\n",
       "      (_project_conv): Conv2dStaticSamePadding(\n",
       "        480, 112, kernel_size=(1, 1), stride=(1, 1), bias=False\n",
       "        (static_padding): Identity()\n",
       "      )\n",
       "      (_bn2): BatchNorm2d(112, eps=0.001, momentum=0.010000000000000009, affine=True, track_running_stats=True)\n",
       "      (_swish): MemoryEfficientSwish()\n",
       "    )\n",
       "    (9): MBConvBlock(\n",
       "      (_expand_conv): Conv2dStaticSamePadding(\n",
       "        112, 672, kernel_size=(1, 1), stride=(1, 1), bias=False\n",
       "        (static_padding): Identity()\n",
       "      )\n",
       "      (_bn0): BatchNorm2d(672, eps=0.001, momentum=0.010000000000000009, affine=True, track_running_stats=True)\n",
       "      (_depthwise_conv): Conv2dStaticSamePadding(\n",
       "        672, 672, kernel_size=(5, 5), stride=(1, 1), groups=672, bias=False\n",
       "        (static_padding): ZeroPad2d((2, 2, 2, 2))\n",
       "      )\n",
       "      (_bn1): BatchNorm2d(672, eps=0.001, momentum=0.010000000000000009, affine=True, track_running_stats=True)\n",
       "      (_se_reduce): Conv2dStaticSamePadding(\n",
       "        672, 28, kernel_size=(1, 1), stride=(1, 1)\n",
       "        (static_padding): Identity()\n",
       "      )\n",
       "      (_se_expand): Conv2dStaticSamePadding(\n",
       "        28, 672, kernel_size=(1, 1), stride=(1, 1)\n",
       "        (static_padding): Identity()\n",
       "      )\n",
       "      (_project_conv): Conv2dStaticSamePadding(\n",
       "        672, 112, kernel_size=(1, 1), stride=(1, 1), bias=False\n",
       "        (static_padding): Identity()\n",
       "      )\n",
       "      (_bn2): BatchNorm2d(112, eps=0.001, momentum=0.010000000000000009, affine=True, track_running_stats=True)\n",
       "      (_swish): MemoryEfficientSwish()\n",
       "    )\n",
       "    (10): MBConvBlock(\n",
       "      (_expand_conv): Conv2dStaticSamePadding(\n",
       "        112, 672, kernel_size=(1, 1), stride=(1, 1), bias=False\n",
       "        (static_padding): Identity()\n",
       "      )\n",
       "      (_bn0): BatchNorm2d(672, eps=0.001, momentum=0.010000000000000009, affine=True, track_running_stats=True)\n",
       "      (_depthwise_conv): Conv2dStaticSamePadding(\n",
       "        672, 672, kernel_size=(5, 5), stride=(1, 1), groups=672, bias=False\n",
       "        (static_padding): ZeroPad2d((2, 2, 2, 2))\n",
       "      )\n",
       "      (_bn1): BatchNorm2d(672, eps=0.001, momentum=0.010000000000000009, affine=True, track_running_stats=True)\n",
       "      (_se_reduce): Conv2dStaticSamePadding(\n",
       "        672, 28, kernel_size=(1, 1), stride=(1, 1)\n",
       "        (static_padding): Identity()\n",
       "      )\n",
       "      (_se_expand): Conv2dStaticSamePadding(\n",
       "        28, 672, kernel_size=(1, 1), stride=(1, 1)\n",
       "        (static_padding): Identity()\n",
       "      )\n",
       "      (_project_conv): Conv2dStaticSamePadding(\n",
       "        672, 112, kernel_size=(1, 1), stride=(1, 1), bias=False\n",
       "        (static_padding): Identity()\n",
       "      )\n",
       "      (_bn2): BatchNorm2d(112, eps=0.001, momentum=0.010000000000000009, affine=True, track_running_stats=True)\n",
       "      (_swish): MemoryEfficientSwish()\n",
       "    )\n",
       "    (11): MBConvBlock(\n",
       "      (_expand_conv): Conv2dStaticSamePadding(\n",
       "        112, 672, kernel_size=(1, 1), stride=(1, 1), bias=False\n",
       "        (static_padding): Identity()\n",
       "      )\n",
       "      (_bn0): BatchNorm2d(672, eps=0.001, momentum=0.010000000000000009, affine=True, track_running_stats=True)\n",
       "      (_depthwise_conv): Conv2dStaticSamePadding(\n",
       "        672, 672, kernel_size=(5, 5), stride=[2, 2], groups=672, bias=False\n",
       "        (static_padding): ZeroPad2d((1, 2, 1, 2))\n",
       "      )\n",
       "      (_bn1): BatchNorm2d(672, eps=0.001, momentum=0.010000000000000009, affine=True, track_running_stats=True)\n",
       "      (_se_reduce): Conv2dStaticSamePadding(\n",
       "        672, 28, kernel_size=(1, 1), stride=(1, 1)\n",
       "        (static_padding): Identity()\n",
       "      )\n",
       "      (_se_expand): Conv2dStaticSamePadding(\n",
       "        28, 672, kernel_size=(1, 1), stride=(1, 1)\n",
       "        (static_padding): Identity()\n",
       "      )\n",
       "      (_project_conv): Conv2dStaticSamePadding(\n",
       "        672, 192, kernel_size=(1, 1), stride=(1, 1), bias=False\n",
       "        (static_padding): Identity()\n",
       "      )\n",
       "      (_bn2): BatchNorm2d(192, eps=0.001, momentum=0.010000000000000009, affine=True, track_running_stats=True)\n",
       "      (_swish): MemoryEfficientSwish()\n",
       "    )\n",
       "    (12): MBConvBlock(\n",
       "      (_expand_conv): Conv2dStaticSamePadding(\n",
       "        192, 1152, kernel_size=(1, 1), stride=(1, 1), bias=False\n",
       "        (static_padding): Identity()\n",
       "      )\n",
       "      (_bn0): BatchNorm2d(1152, eps=0.001, momentum=0.010000000000000009, affine=True, track_running_stats=True)\n",
       "      (_depthwise_conv): Conv2dStaticSamePadding(\n",
       "        1152, 1152, kernel_size=(5, 5), stride=(1, 1), groups=1152, bias=False\n",
       "        (static_padding): ZeroPad2d((2, 2, 2, 2))\n",
       "      )\n",
       "      (_bn1): BatchNorm2d(1152, eps=0.001, momentum=0.010000000000000009, affine=True, track_running_stats=True)\n",
       "      (_se_reduce): Conv2dStaticSamePadding(\n",
       "        1152, 48, kernel_size=(1, 1), stride=(1, 1)\n",
       "        (static_padding): Identity()\n",
       "      )\n",
       "      (_se_expand): Conv2dStaticSamePadding(\n",
       "        48, 1152, kernel_size=(1, 1), stride=(1, 1)\n",
       "        (static_padding): Identity()\n",
       "      )\n",
       "      (_project_conv): Conv2dStaticSamePadding(\n",
       "        1152, 192, kernel_size=(1, 1), stride=(1, 1), bias=False\n",
       "        (static_padding): Identity()\n",
       "      )\n",
       "      (_bn2): BatchNorm2d(192, eps=0.001, momentum=0.010000000000000009, affine=True, track_running_stats=True)\n",
       "      (_swish): MemoryEfficientSwish()\n",
       "    )\n",
       "    (13): MBConvBlock(\n",
       "      (_expand_conv): Conv2dStaticSamePadding(\n",
       "        192, 1152, kernel_size=(1, 1), stride=(1, 1), bias=False\n",
       "        (static_padding): Identity()\n",
       "      )\n",
       "      (_bn0): BatchNorm2d(1152, eps=0.001, momentum=0.010000000000000009, affine=True, track_running_stats=True)\n",
       "      (_depthwise_conv): Conv2dStaticSamePadding(\n",
       "        1152, 1152, kernel_size=(5, 5), stride=(1, 1), groups=1152, bias=False\n",
       "        (static_padding): ZeroPad2d((2, 2, 2, 2))\n",
       "      )\n",
       "      (_bn1): BatchNorm2d(1152, eps=0.001, momentum=0.010000000000000009, affine=True, track_running_stats=True)\n",
       "      (_se_reduce): Conv2dStaticSamePadding(\n",
       "        1152, 48, kernel_size=(1, 1), stride=(1, 1)\n",
       "        (static_padding): Identity()\n",
       "      )\n",
       "      (_se_expand): Conv2dStaticSamePadding(\n",
       "        48, 1152, kernel_size=(1, 1), stride=(1, 1)\n",
       "        (static_padding): Identity()\n",
       "      )\n",
       "      (_project_conv): Conv2dStaticSamePadding(\n",
       "        1152, 192, kernel_size=(1, 1), stride=(1, 1), bias=False\n",
       "        (static_padding): Identity()\n",
       "      )\n",
       "      (_bn2): BatchNorm2d(192, eps=0.001, momentum=0.010000000000000009, affine=True, track_running_stats=True)\n",
       "      (_swish): MemoryEfficientSwish()\n",
       "    )\n",
       "    (14): MBConvBlock(\n",
       "      (_expand_conv): Conv2dStaticSamePadding(\n",
       "        192, 1152, kernel_size=(1, 1), stride=(1, 1), bias=False\n",
       "        (static_padding): Identity()\n",
       "      )\n",
       "      (_bn0): BatchNorm2d(1152, eps=0.001, momentum=0.010000000000000009, affine=True, track_running_stats=True)\n",
       "      (_depthwise_conv): Conv2dStaticSamePadding(\n",
       "        1152, 1152, kernel_size=(5, 5), stride=(1, 1), groups=1152, bias=False\n",
       "        (static_padding): ZeroPad2d((2, 2, 2, 2))\n",
       "      )\n",
       "      (_bn1): BatchNorm2d(1152, eps=0.001, momentum=0.010000000000000009, affine=True, track_running_stats=True)\n",
       "      (_se_reduce): Conv2dStaticSamePadding(\n",
       "        1152, 48, kernel_size=(1, 1), stride=(1, 1)\n",
       "        (static_padding): Identity()\n",
       "      )\n",
       "      (_se_expand): Conv2dStaticSamePadding(\n",
       "        48, 1152, kernel_size=(1, 1), stride=(1, 1)\n",
       "        (static_padding): Identity()\n",
       "      )\n",
       "      (_project_conv): Conv2dStaticSamePadding(\n",
       "        1152, 192, kernel_size=(1, 1), stride=(1, 1), bias=False\n",
       "        (static_padding): Identity()\n",
       "      )\n",
       "      (_bn2): BatchNorm2d(192, eps=0.001, momentum=0.010000000000000009, affine=True, track_running_stats=True)\n",
       "      (_swish): MemoryEfficientSwish()\n",
       "    )\n",
       "    (15): MBConvBlock(\n",
       "      (_expand_conv): Conv2dStaticSamePadding(\n",
       "        192, 1152, kernel_size=(1, 1), stride=(1, 1), bias=False\n",
       "        (static_padding): Identity()\n",
       "      )\n",
       "      (_bn0): BatchNorm2d(1152, eps=0.001, momentum=0.010000000000000009, affine=True, track_running_stats=True)\n",
       "      (_depthwise_conv): Conv2dStaticSamePadding(\n",
       "        1152, 1152, kernel_size=(3, 3), stride=[1, 1], groups=1152, bias=False\n",
       "        (static_padding): ZeroPad2d((1, 1, 1, 1))\n",
       "      )\n",
       "      (_bn1): BatchNorm2d(1152, eps=0.001, momentum=0.010000000000000009, affine=True, track_running_stats=True)\n",
       "      (_se_reduce): Conv2dStaticSamePadding(\n",
       "        1152, 48, kernel_size=(1, 1), stride=(1, 1)\n",
       "        (static_padding): Identity()\n",
       "      )\n",
       "      (_se_expand): Conv2dStaticSamePadding(\n",
       "        48, 1152, kernel_size=(1, 1), stride=(1, 1)\n",
       "        (static_padding): Identity()\n",
       "      )\n",
       "      (_project_conv): Conv2dStaticSamePadding(\n",
       "        1152, 320, kernel_size=(1, 1), stride=(1, 1), bias=False\n",
       "        (static_padding): Identity()\n",
       "      )\n",
       "      (_bn2): BatchNorm2d(320, eps=0.001, momentum=0.010000000000000009, affine=True, track_running_stats=True)\n",
       "      (_swish): MemoryEfficientSwish()\n",
       "    )\n",
       "  )\n",
       "  (_conv_head): Conv2dStaticSamePadding(\n",
       "    320, 1280, kernel_size=(1, 1), stride=(1, 1), bias=False\n",
       "    (static_padding): Identity()\n",
       "  )\n",
       "  (_bn1): BatchNorm2d(1280, eps=0.001, momentum=0.010000000000000009, affine=True, track_running_stats=True)\n",
       "  (_avg_pooling): AdaptiveAvgPool2d(output_size=1)\n",
       "  (_dropout): Dropout(p=0.2, inplace=False)\n",
       "  (_fc): Sequential(\n",
       "    (0): Linear(in_features=1280, out_features=10, bias=True)\n",
       "  )\n",
       "  (_swish): MemoryEfficientSwish()\n",
       ")"
      ]
     },
     "execution_count": 9,
     "metadata": {},
     "output_type": "execute_result"
    }
   ],
   "source": [
    "model = EfficientNet.from_pretrained('efficientnet-b0')\n",
    "in_features = model._fc.in_features\n",
    "model._fc = nn.Sequential(   \n",
    "    nn.Linear(in_features, 10),\n",
    "    )\n",
    "model.load_state_dict(torch.load('model.pt'))\n",
    "model.cuda()\n",
    "model.eval()"
   ]
  },
  {
   "attachments": {},
   "cell_type": "markdown",
   "metadata": {},
   "source": [
    "Perform Inference on the Test Set:"
   ]
  },
  {
   "cell_type": "code",
   "execution_count": 10,
   "metadata": {},
   "outputs": [
    {
     "name": "stdout",
     "output_type": "stream",
     "text": [
      "Final Test Accuracy: 0.9226361031518625 (1610 / 1745)\n"
     ]
    },
    {
     "data": {
      "application/vnd.plotly.v1+json": {
       "config": {
        "plotlyServerURL": "https://plot.ly"
       },
       "data": [
        {
         "alignmentgroup": "True",
         "hovertemplate": "Classification Accuracy=%{x}<br>Audio Class=%{y}<extra></extra>",
         "legendgroup": "",
         "marker": {
          "color": "#636efa",
          "pattern": {
           "shape": ""
          }
         },
         "name": "",
         "offsetgroup": "",
         "orientation": "h",
         "showlegend": false,
         "textposition": "auto",
         "type": "bar",
         "x": [
          0.8045454545454546,
          0.895,
          0.9085714285714286,
          0.9322916666666666,
          0.9398148148148148,
          0.9405940594059405,
          0.95,
          0.9591836734693877,
          0.971830985915493,
          0.9895287958115183
         ],
         "xaxis": "x",
         "y": [
          "street_music",
          "children_playing",
          "jackhammer",
          "engine_idling",
          "air_conditioner",
          "drilling",
          "dog_bark",
          "car_horn",
          "gun_shot",
          "siren"
         ],
         "yaxis": "y"
        }
       ],
       "layout": {
        "barmode": "relative",
        "legend": {
         "tracegroupgap": 0
        },
        "showlegend": false,
        "template": {
         "data": {
          "bar": [
           {
            "error_x": {
             "color": "#f2f5fa"
            },
            "error_y": {
             "color": "#f2f5fa"
            },
            "marker": {
             "line": {
              "color": "rgb(17,17,17)",
              "width": 0.5
             },
             "pattern": {
              "fillmode": "overlay",
              "size": 10,
              "solidity": 0.2
             }
            },
            "type": "bar"
           }
          ],
          "barpolar": [
           {
            "marker": {
             "line": {
              "color": "rgb(17,17,17)",
              "width": 0.5
             },
             "pattern": {
              "fillmode": "overlay",
              "size": 10,
              "solidity": 0.2
             }
            },
            "type": "barpolar"
           }
          ],
          "carpet": [
           {
            "aaxis": {
             "endlinecolor": "#A2B1C6",
             "gridcolor": "#506784",
             "linecolor": "#506784",
             "minorgridcolor": "#506784",
             "startlinecolor": "#A2B1C6"
            },
            "baxis": {
             "endlinecolor": "#A2B1C6",
             "gridcolor": "#506784",
             "linecolor": "#506784",
             "minorgridcolor": "#506784",
             "startlinecolor": "#A2B1C6"
            },
            "type": "carpet"
           }
          ],
          "choropleth": [
           {
            "colorbar": {
             "outlinewidth": 0,
             "ticks": ""
            },
            "type": "choropleth"
           }
          ],
          "contour": [
           {
            "colorbar": {
             "outlinewidth": 0,
             "ticks": ""
            },
            "colorscale": [
             [
              0,
              "#0d0887"
             ],
             [
              0.1111111111111111,
              "#46039f"
             ],
             [
              0.2222222222222222,
              "#7201a8"
             ],
             [
              0.3333333333333333,
              "#9c179e"
             ],
             [
              0.4444444444444444,
              "#bd3786"
             ],
             [
              0.5555555555555556,
              "#d8576b"
             ],
             [
              0.6666666666666666,
              "#ed7953"
             ],
             [
              0.7777777777777778,
              "#fb9f3a"
             ],
             [
              0.8888888888888888,
              "#fdca26"
             ],
             [
              1,
              "#f0f921"
             ]
            ],
            "type": "contour"
           }
          ],
          "contourcarpet": [
           {
            "colorbar": {
             "outlinewidth": 0,
             "ticks": ""
            },
            "type": "contourcarpet"
           }
          ],
          "heatmap": [
           {
            "colorbar": {
             "outlinewidth": 0,
             "ticks": ""
            },
            "colorscale": [
             [
              0,
              "#0d0887"
             ],
             [
              0.1111111111111111,
              "#46039f"
             ],
             [
              0.2222222222222222,
              "#7201a8"
             ],
             [
              0.3333333333333333,
              "#9c179e"
             ],
             [
              0.4444444444444444,
              "#bd3786"
             ],
             [
              0.5555555555555556,
              "#d8576b"
             ],
             [
              0.6666666666666666,
              "#ed7953"
             ],
             [
              0.7777777777777778,
              "#fb9f3a"
             ],
             [
              0.8888888888888888,
              "#fdca26"
             ],
             [
              1,
              "#f0f921"
             ]
            ],
            "type": "heatmap"
           }
          ],
          "heatmapgl": [
           {
            "colorbar": {
             "outlinewidth": 0,
             "ticks": ""
            },
            "colorscale": [
             [
              0,
              "#0d0887"
             ],
             [
              0.1111111111111111,
              "#46039f"
             ],
             [
              0.2222222222222222,
              "#7201a8"
             ],
             [
              0.3333333333333333,
              "#9c179e"
             ],
             [
              0.4444444444444444,
              "#bd3786"
             ],
             [
              0.5555555555555556,
              "#d8576b"
             ],
             [
              0.6666666666666666,
              "#ed7953"
             ],
             [
              0.7777777777777778,
              "#fb9f3a"
             ],
             [
              0.8888888888888888,
              "#fdca26"
             ],
             [
              1,
              "#f0f921"
             ]
            ],
            "type": "heatmapgl"
           }
          ],
          "histogram": [
           {
            "marker": {
             "pattern": {
              "fillmode": "overlay",
              "size": 10,
              "solidity": 0.2
             }
            },
            "type": "histogram"
           }
          ],
          "histogram2d": [
           {
            "colorbar": {
             "outlinewidth": 0,
             "ticks": ""
            },
            "colorscale": [
             [
              0,
              "#0d0887"
             ],
             [
              0.1111111111111111,
              "#46039f"
             ],
             [
              0.2222222222222222,
              "#7201a8"
             ],
             [
              0.3333333333333333,
              "#9c179e"
             ],
             [
              0.4444444444444444,
              "#bd3786"
             ],
             [
              0.5555555555555556,
              "#d8576b"
             ],
             [
              0.6666666666666666,
              "#ed7953"
             ],
             [
              0.7777777777777778,
              "#fb9f3a"
             ],
             [
              0.8888888888888888,
              "#fdca26"
             ],
             [
              1,
              "#f0f921"
             ]
            ],
            "type": "histogram2d"
           }
          ],
          "histogram2dcontour": [
           {
            "colorbar": {
             "outlinewidth": 0,
             "ticks": ""
            },
            "colorscale": [
             [
              0,
              "#0d0887"
             ],
             [
              0.1111111111111111,
              "#46039f"
             ],
             [
              0.2222222222222222,
              "#7201a8"
             ],
             [
              0.3333333333333333,
              "#9c179e"
             ],
             [
              0.4444444444444444,
              "#bd3786"
             ],
             [
              0.5555555555555556,
              "#d8576b"
             ],
             [
              0.6666666666666666,
              "#ed7953"
             ],
             [
              0.7777777777777778,
              "#fb9f3a"
             ],
             [
              0.8888888888888888,
              "#fdca26"
             ],
             [
              1,
              "#f0f921"
             ]
            ],
            "type": "histogram2dcontour"
           }
          ],
          "mesh3d": [
           {
            "colorbar": {
             "outlinewidth": 0,
             "ticks": ""
            },
            "type": "mesh3d"
           }
          ],
          "parcoords": [
           {
            "line": {
             "colorbar": {
              "outlinewidth": 0,
              "ticks": ""
             }
            },
            "type": "parcoords"
           }
          ],
          "pie": [
           {
            "automargin": true,
            "type": "pie"
           }
          ],
          "scatter": [
           {
            "marker": {
             "line": {
              "color": "#283442"
             }
            },
            "type": "scatter"
           }
          ],
          "scatter3d": [
           {
            "line": {
             "colorbar": {
              "outlinewidth": 0,
              "ticks": ""
             }
            },
            "marker": {
             "colorbar": {
              "outlinewidth": 0,
              "ticks": ""
             }
            },
            "type": "scatter3d"
           }
          ],
          "scattercarpet": [
           {
            "marker": {
             "colorbar": {
              "outlinewidth": 0,
              "ticks": ""
             }
            },
            "type": "scattercarpet"
           }
          ],
          "scattergeo": [
           {
            "marker": {
             "colorbar": {
              "outlinewidth": 0,
              "ticks": ""
             }
            },
            "type": "scattergeo"
           }
          ],
          "scattergl": [
           {
            "marker": {
             "line": {
              "color": "#283442"
             }
            },
            "type": "scattergl"
           }
          ],
          "scattermapbox": [
           {
            "marker": {
             "colorbar": {
              "outlinewidth": 0,
              "ticks": ""
             }
            },
            "type": "scattermapbox"
           }
          ],
          "scatterpolar": [
           {
            "marker": {
             "colorbar": {
              "outlinewidth": 0,
              "ticks": ""
             }
            },
            "type": "scatterpolar"
           }
          ],
          "scatterpolargl": [
           {
            "marker": {
             "colorbar": {
              "outlinewidth": 0,
              "ticks": ""
             }
            },
            "type": "scatterpolargl"
           }
          ],
          "scatterternary": [
           {
            "marker": {
             "colorbar": {
              "outlinewidth": 0,
              "ticks": ""
             }
            },
            "type": "scatterternary"
           }
          ],
          "surface": [
           {
            "colorbar": {
             "outlinewidth": 0,
             "ticks": ""
            },
            "colorscale": [
             [
              0,
              "#0d0887"
             ],
             [
              0.1111111111111111,
              "#46039f"
             ],
             [
              0.2222222222222222,
              "#7201a8"
             ],
             [
              0.3333333333333333,
              "#9c179e"
             ],
             [
              0.4444444444444444,
              "#bd3786"
             ],
             [
              0.5555555555555556,
              "#d8576b"
             ],
             [
              0.6666666666666666,
              "#ed7953"
             ],
             [
              0.7777777777777778,
              "#fb9f3a"
             ],
             [
              0.8888888888888888,
              "#fdca26"
             ],
             [
              1,
              "#f0f921"
             ]
            ],
            "type": "surface"
           }
          ],
          "table": [
           {
            "cells": {
             "fill": {
              "color": "#506784"
             },
             "line": {
              "color": "rgb(17,17,17)"
             }
            },
            "header": {
             "fill": {
              "color": "#2a3f5f"
             },
             "line": {
              "color": "rgb(17,17,17)"
             }
            },
            "type": "table"
           }
          ]
         },
         "layout": {
          "annotationdefaults": {
           "arrowcolor": "#f2f5fa",
           "arrowhead": 0,
           "arrowwidth": 1
          },
          "autotypenumbers": "strict",
          "coloraxis": {
           "colorbar": {
            "outlinewidth": 0,
            "ticks": ""
           }
          },
          "colorscale": {
           "diverging": [
            [
             0,
             "#8e0152"
            ],
            [
             0.1,
             "#c51b7d"
            ],
            [
             0.2,
             "#de77ae"
            ],
            [
             0.3,
             "#f1b6da"
            ],
            [
             0.4,
             "#fde0ef"
            ],
            [
             0.5,
             "#f7f7f7"
            ],
            [
             0.6,
             "#e6f5d0"
            ],
            [
             0.7,
             "#b8e186"
            ],
            [
             0.8,
             "#7fbc41"
            ],
            [
             0.9,
             "#4d9221"
            ],
            [
             1,
             "#276419"
            ]
           ],
           "sequential": [
            [
             0,
             "#0d0887"
            ],
            [
             0.1111111111111111,
             "#46039f"
            ],
            [
             0.2222222222222222,
             "#7201a8"
            ],
            [
             0.3333333333333333,
             "#9c179e"
            ],
            [
             0.4444444444444444,
             "#bd3786"
            ],
            [
             0.5555555555555556,
             "#d8576b"
            ],
            [
             0.6666666666666666,
             "#ed7953"
            ],
            [
             0.7777777777777778,
             "#fb9f3a"
            ],
            [
             0.8888888888888888,
             "#fdca26"
            ],
            [
             1,
             "#f0f921"
            ]
           ],
           "sequentialminus": [
            [
             0,
             "#0d0887"
            ],
            [
             0.1111111111111111,
             "#46039f"
            ],
            [
             0.2222222222222222,
             "#7201a8"
            ],
            [
             0.3333333333333333,
             "#9c179e"
            ],
            [
             0.4444444444444444,
             "#bd3786"
            ],
            [
             0.5555555555555556,
             "#d8576b"
            ],
            [
             0.6666666666666666,
             "#ed7953"
            ],
            [
             0.7777777777777778,
             "#fb9f3a"
            ],
            [
             0.8888888888888888,
             "#fdca26"
            ],
            [
             1,
             "#f0f921"
            ]
           ]
          },
          "colorway": [
           "#636efa",
           "#EF553B",
           "#00cc96",
           "#ab63fa",
           "#FFA15A",
           "#19d3f3",
           "#FF6692",
           "#B6E880",
           "#FF97FF",
           "#FECB52"
          ],
          "font": {
           "color": "#f2f5fa"
          },
          "geo": {
           "bgcolor": "rgb(17,17,17)",
           "lakecolor": "rgb(17,17,17)",
           "landcolor": "rgb(17,17,17)",
           "showlakes": true,
           "showland": true,
           "subunitcolor": "#506784"
          },
          "hoverlabel": {
           "align": "left"
          },
          "hovermode": "closest",
          "mapbox": {
           "style": "dark"
          },
          "paper_bgcolor": "rgb(17,17,17)",
          "plot_bgcolor": "rgb(17,17,17)",
          "polar": {
           "angularaxis": {
            "gridcolor": "#506784",
            "linecolor": "#506784",
            "ticks": ""
           },
           "bgcolor": "rgb(17,17,17)",
           "radialaxis": {
            "gridcolor": "#506784",
            "linecolor": "#506784",
            "ticks": ""
           }
          },
          "scene": {
           "xaxis": {
            "backgroundcolor": "rgb(17,17,17)",
            "gridcolor": "#506784",
            "gridwidth": 2,
            "linecolor": "#506784",
            "showbackground": true,
            "ticks": "",
            "zerolinecolor": "#C8D4E3"
           },
           "yaxis": {
            "backgroundcolor": "rgb(17,17,17)",
            "gridcolor": "#506784",
            "gridwidth": 2,
            "linecolor": "#506784",
            "showbackground": true,
            "ticks": "",
            "zerolinecolor": "#C8D4E3"
           },
           "zaxis": {
            "backgroundcolor": "rgb(17,17,17)",
            "gridcolor": "#506784",
            "gridwidth": 2,
            "linecolor": "#506784",
            "showbackground": true,
            "ticks": "",
            "zerolinecolor": "#C8D4E3"
           }
          },
          "shapedefaults": {
           "line": {
            "color": "#f2f5fa"
           }
          },
          "sliderdefaults": {
           "bgcolor": "#C8D4E3",
           "bordercolor": "rgb(17,17,17)",
           "borderwidth": 1,
           "tickwidth": 0
          },
          "ternary": {
           "aaxis": {
            "gridcolor": "#506784",
            "linecolor": "#506784",
            "ticks": ""
           },
           "baxis": {
            "gridcolor": "#506784",
            "linecolor": "#506784",
            "ticks": ""
           },
           "bgcolor": "rgb(17,17,17)",
           "caxis": {
            "gridcolor": "#506784",
            "linecolor": "#506784",
            "ticks": ""
           }
          },
          "title": {
           "x": 0.05
          },
          "updatemenudefaults": {
           "bgcolor": "#506784",
           "borderwidth": 0
          },
          "xaxis": {
           "automargin": true,
           "gridcolor": "#283442",
           "linecolor": "#506784",
           "ticks": "",
           "title": {
            "standoff": 15
           },
           "zerolinecolor": "#283442",
           "zerolinewidth": 2
          },
          "yaxis": {
           "automargin": true,
           "gridcolor": "#283442",
           "linecolor": "#506784",
           "ticks": "",
           "title": {
            "standoff": 15
           },
           "zerolinecolor": "#283442",
           "zerolinewidth": 2
          }
         }
        },
        "title": {
         "text": "Performance Report by Class"
        },
        "xaxis": {
         "anchor": "y",
         "domain": [
          0,
          1
         ],
         "tickformat": "2%",
         "title": {
          "text": "Classification Accuracy"
         }
        },
        "yaxis": {
         "anchor": "x",
         "domain": [
          0,
          1
         ],
         "title": {
          "text": "Audio Class"
         }
        }
       }
      }
     },
     "metadata": {},
     "output_type": "display_data"
    },
    {
     "data": {
      "text/plain": [
       "(None,\n",
       " correct  index            target  False  True       acc\n",
       " 0            9      street_music     43   177  0.804545\n",
       " 1            2  children_playing     21   179  0.895000\n",
       " 2            7        jackhammer     16   159  0.908571\n",
       " 3            5     engine_idling     13   179  0.932292\n",
       " 4            0   air_conditioner     13   203  0.939815\n",
       " 5            4          drilling     12   190  0.940594\n",
       " 6            3          dog_bark      9   171  0.950000\n",
       " 7            1          car_horn      4    94  0.959184\n",
       " 8            6          gun_shot      2    69  0.971831\n",
       " 9            8             siren      2   189  0.989529)"
      ]
     },
     "execution_count": 10,
     "metadata": {},
     "output_type": "execute_result"
    }
   ],
   "source": [
    "preds = []\n",
    "targets = []\n",
    "correct = 0\n",
    "\n",
    "class_map = {'0' : 'air_conditioner', '1' : 'car_horn', '2' : 'children_playing', '3' : 'dog_bark', '4' : 'drilling', \n",
    "                 '5' : 'engine_idling', '6' : 'gun_shot', '7' : 'jackhammer', '8' : 'siren', '9' : 'street_music'}\n",
    "\n",
    "\n",
    "for batch_idx, (data, target) in enumerate(loaders_transfer['test']):\n",
    "    data, target = data.cuda(), target.cuda()\n",
    "    output = model(data)\n",
    "    prediction = torch.argmax(output, dim=1)\n",
    "    preds.append(prediction.cpu().numpy())\n",
    "    targets.append(target.cpu().numpy())\n",
    "\n",
    "targets = np.concatenate(targets)\n",
    "preds = np.concatenate(preds)\n",
    "\n",
    "results_df = pd.DataFrame(data=zip(targets,preds),columns=['target','prediction'])\n",
    "results_df['correct'] = results_df['target'] == results_df['prediction']\n",
    "results_df['correct'] = results_df['correct'].astype(str)\n",
    "results_df = results_df.groupby(by=['target','correct'],as_index=False).count()\n",
    "results_df = results_df.pivot_table(index='target',columns='correct',values='prediction').fillna(0).reset_index()\n",
    "results_df['acc'] = results_df['True'] / (results_df['True']+results_df['False'])\n",
    "results_df['target'] = results_df['target'].astype(str)\n",
    "results_df = results_df.replace({\"target\":class_map})\n",
    "results_df = results_df.sort_values(by=['acc'],ascending=True).reset_index()\n",
    "\n",
    "total = sum(results_df['True']) + sum(results_df['False'])\n",
    "correct = sum(results_df['True'])\n",
    "\n",
    "fig = px.bar(results_df,x=\"acc\",y=\"target\",orientation='h', template='plotly_dark',\n",
    "           labels={\"acc\":\"Classification Accuracy\",\n",
    "           'target' : 'Audio Class'\n",
    "           },\n",
    "           title='Performance Report by Class')\n",
    "\n",
    "fig.layout.showlegend = False\n",
    "fig.update_layout(xaxis_tickformat=\"2%\")\n",
    "\n",
    "print(\"Final Test Accuracy: {} ({} / {})\".format(\n",
    "   correct/total,\n",
    "   correct,\n",
    "   total\n",
    "))\n",
    "\n",
    "fig.show(), results_df"
   ]
  },
  {
   "cell_type": "code",
   "execution_count": null,
   "metadata": {},
   "outputs": [],
   "source": []
  }
 ],
 "metadata": {
  "kernelspec": {
   "display_name": "base",
   "language": "python",
   "name": "python3"
  },
  "language_info": {
   "codemirror_mode": {
    "name": "ipython",
    "version": 3
   },
   "file_extension": ".py",
   "mimetype": "text/x-python",
   "name": "python",
   "nbconvert_exporter": "python",
   "pygments_lexer": "ipython3",
   "version": "3.9.13 | packaged by conda-forge | (main, May 27 2022, 16:51:29) [MSC v.1929 64 bit (AMD64)]"
  },
  "orig_nbformat": 4,
  "vscode": {
   "interpreter": {
    "hash": "3a52d4c035417b05bd55a248d14e7821f3e49e2f328c6b3af0e0e5c45894566b"
   }
  }
 },
 "nbformat": 4,
 "nbformat_minor": 2
}
